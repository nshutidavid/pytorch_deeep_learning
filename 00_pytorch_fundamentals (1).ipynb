{
 "cells": [
  {
   "cell_type": "code",
   "execution_count": null,
   "metadata": {
    "executionInfo": {
     "elapsed": 5,
     "status": "ok",
     "timestamp": 1750704659419,
     "user": {
      "displayName": "Maniraguha Nshuti David",
      "userId": "13190876237581765185"
     },
     "user_tz": -120
    },
    "id": "8F1Tfh75XZ88"
   },
   "outputs": [],
   "source": [
    "## Pytorch Fundamentals"
   ]
  },
  {
   "cell_type": "markdown",
   "metadata": {
    "id": "jRcFz5wAZFrT"
   },
   "source": [
    "## Pytorch Fundamentals"
   ]
  },
  {
   "cell_type": "code",
   "execution_count": null,
   "metadata": {
    "colab": {
     "base_uri": "https://localhost:8080/"
    },
    "executionInfo": {
     "elapsed": 8412,
     "status": "ok",
     "timestamp": 1750704667837,
     "user": {
      "displayName": "Maniraguha Nshuti David",
      "userId": "13190876237581765185"
     },
     "user_tz": -120
    },
    "id": "-Cs3Qfp7ZFFA",
    "outputId": "227ae516-f4b8-43a4-a204-14c86d8b08c3"
   },
   "outputs": [
    {
     "name": "stdout",
     "output_type": "stream",
     "text": [
      "2.6.0+cu124\n"
     ]
    }
   ],
   "source": [
    "import torch\n",
    "import pandas as pd\n",
    "import numpy as np\n",
    "import matplotlib.pyplot as plt\n",
    "print(torch.__version__)"
   ]
  },
  {
   "cell_type": "code",
   "execution_count": null,
   "metadata": {
    "colab": {
     "base_uri": "https://localhost:8080/"
    },
    "executionInfo": {
     "elapsed": 220,
     "status": "ok",
     "timestamp": 1750704668019,
     "user": {
      "displayName": "Maniraguha Nshuti David",
      "userId": "13190876237581765185"
     },
     "user_tz": -120
    },
    "id": "hWRxRb3iYg3a",
    "outputId": "b484e993-5789-42f4-e51f-aa10765d1beb"
   },
   "outputs": [
    {
     "name": "stdout",
     "output_type": "stream",
     "text": [
      "/bin/bash: line 1: nvidia-smi: command not found\n"
     ]
    }
   ],
   "source": [
    "!nvidia-smi"
   ]
  },
  {
   "cell_type": "code",
   "execution_count": 3,
   "metadata": {
    "executionInfo": {
     "elapsed": 53,
     "status": "ok",
     "timestamp": 1750704668073,
     "user": {
      "displayName": "Maniraguha Nshuti David",
      "userId": "13190876237581765185"
     },
     "user_tz": -120
    },
    "id": "fqW4166wYkrT"
   },
   "outputs": [],
   "source": []
  },
  {
   "cell_type": "markdown",
   "metadata": {
    "id": "y32Uj50havHJ"
   },
   "source": [
    "## Introduction to Tensors\n",
    "\n",
    "### Creating Tensor"
   ]
  },
  {
   "cell_type": "code",
   "execution_count": null,
   "metadata": {
    "colab": {
     "base_uri": "https://localhost:8080/"
    },
    "executionInfo": {
     "elapsed": 158,
     "status": "ok",
     "timestamp": 1750704668251,
     "user": {
      "displayName": "Maniraguha Nshuti David",
      "userId": "13190876237581765185"
     },
     "user_tz": -120
    },
    "id": "zZrm8yi0asiI",
    "outputId": "1edfa871-1ef1-497f-8d30-38b668d754c3"
   },
   "outputs": [
    {
     "data": {
      "text/plain": [
       "tensor(7)"
      ]
     },
     "execution_count": 4,
     "metadata": {},
     "output_type": "execute_result"
    }
   ],
   "source": [
    "# scalar\n",
    "scalar = torch.tensor(7)\n",
    "scalar"
   ]
  },
  {
   "cell_type": "code",
   "execution_count": 5,
   "metadata": {
    "colab": {
     "base_uri": "https://localhost:8080/"
    },
    "executionInfo": {
     "elapsed": 141,
     "status": "ok",
     "timestamp": 1750704668393,
     "user": {
      "displayName": "Maniraguha Nshuti David",
      "userId": "13190876237581765185"
     },
     "user_tz": -120
    },
    "id": "9ORpjeagbQLy",
    "outputId": "5f99a1d9-b5df-4fa5-c710-b8bd12f489c9"
   },
   "outputs": [
    {
     "data": {
      "text/plain": [
       "0"
      ]
     },
     "execution_count": 5,
     "metadata": {},
     "output_type": "execute_result"
    }
   ],
   "source": [
    "scalar.ndim\n"
   ]
  },
  {
   "cell_type": "code",
   "execution_count": 6,
   "metadata": {
    "colab": {
     "base_uri": "https://localhost:8080/"
    },
    "executionInfo": {
     "elapsed": 65,
     "status": "ok",
     "timestamp": 1750704668394,
     "user": {
      "displayName": "Maniraguha Nshuti David",
      "userId": "13190876237581765185"
     },
     "user_tz": -120
    },
    "id": "u1cO-EK2cSug",
    "outputId": "0c366888-b97d-42f2-fd24-a3d977c4015c"
   },
   "outputs": [
    {
     "data": {
      "text/plain": [
       "7"
      ]
     },
     "execution_count": 6,
     "metadata": {},
     "output_type": "execute_result"
    }
   ],
   "source": [
    "# Get tensor back as python int\n",
    "scalar.item()"
   ]
  },
  {
   "cell_type": "code",
   "execution_count": 7,
   "metadata": {
    "colab": {
     "base_uri": "https://localhost:8080/"
    },
    "executionInfo": {
     "elapsed": 99,
     "status": "ok",
     "timestamp": 1750704668442,
     "user": {
      "displayName": "Maniraguha Nshuti David",
      "userId": "13190876237581765185"
     },
     "user_tz": -120
    },
    "id": "igFqAlyKcmBR",
    "outputId": "d3319064-697c-41b3-bc43-4ecccbc7e97a"
   },
   "outputs": [
    {
     "data": {
      "text/plain": [
       "tensor([7, 7])"
      ]
     },
     "execution_count": 7,
     "metadata": {},
     "output_type": "execute_result"
    }
   ],
   "source": [
    "# Vector\n",
    "vector = torch.tensor([7,7])\n",
    "vector"
   ]
  },
  {
   "cell_type": "code",
   "execution_count": 8,
   "metadata": {
    "colab": {
     "base_uri": "https://localhost:8080/"
    },
    "executionInfo": {
     "elapsed": 136,
     "status": "ok",
     "timestamp": 1750704668524,
     "user": {
      "displayName": "Maniraguha Nshuti David",
      "userId": "13190876237581765185"
     },
     "user_tz": -120
    },
    "id": "1y3LdLCXcxNm",
    "outputId": "bace2c81-0a68-444f-be64-042572e069e0"
   },
   "outputs": [
    {
     "data": {
      "text/plain": [
       "1"
      ]
     },
     "execution_count": 8,
     "metadata": {},
     "output_type": "execute_result"
    }
   ],
   "source": [
    "vector.ndim"
   ]
  },
  {
   "cell_type": "code",
   "execution_count": 9,
   "metadata": {
    "colab": {
     "base_uri": "https://localhost:8080/"
    },
    "executionInfo": {
     "elapsed": 78,
     "status": "ok",
     "timestamp": 1750704668526,
     "user": {
      "displayName": "Maniraguha Nshuti David",
      "userId": "13190876237581765185"
     },
     "user_tz": -120
    },
    "id": "7bjNoi8XdLJ3",
    "outputId": "53333529-6dd7-4eb5-8904-1558d1ea984d"
   },
   "outputs": [
    {
     "data": {
      "text/plain": [
       "torch.Size([2])"
      ]
     },
     "execution_count": 9,
     "metadata": {},
     "output_type": "execute_result"
    }
   ],
   "source": [
    "vector.shape"
   ]
  },
  {
   "cell_type": "code",
   "execution_count": 10,
   "metadata": {
    "colab": {
     "base_uri": "https://localhost:8080/"
    },
    "executionInfo": {
     "elapsed": 29,
     "status": "ok",
     "timestamp": 1750704668527,
     "user": {
      "displayName": "Maniraguha Nshuti David",
      "userId": "13190876237581765185"
     },
     "user_tz": -120
    },
    "id": "0TDvMWhYdRg7",
    "outputId": "0af74d00-4298-4c93-d417-ef3d778728f2"
   },
   "outputs": [
    {
     "data": {
      "text/plain": [
       "tensor([[ 7,  8],\n",
       "        [ 9, 10]])"
      ]
     },
     "execution_count": 10,
     "metadata": {},
     "output_type": "execute_result"
    }
   ],
   "source": [
    "# MATRIX\n",
    "MATRIX = torch.tensor([[7,8],\n",
    "                       [9,10]])\n",
    "MATRIX"
   ]
  },
  {
   "cell_type": "code",
   "execution_count": 11,
   "metadata": {
    "colab": {
     "base_uri": "https://localhost:8080/"
    },
    "executionInfo": {
     "elapsed": 16,
     "status": "ok",
     "timestamp": 1750704668528,
     "user": {
      "displayName": "Maniraguha Nshuti David",
      "userId": "13190876237581765185"
     },
     "user_tz": -120
    },
    "id": "1JeJt1H2delf",
    "outputId": "5a40936b-6b78-4936-b713-343cc12c4d58"
   },
   "outputs": [
    {
     "data": {
      "text/plain": [
       "2"
      ]
     },
     "execution_count": 11,
     "metadata": {},
     "output_type": "execute_result"
    }
   ],
   "source": [
    "MATRIX.ndim"
   ]
  },
  {
   "cell_type": "code",
   "execution_count": 12,
   "metadata": {
    "colab": {
     "base_uri": "https://localhost:8080/"
    },
    "executionInfo": {
     "elapsed": 12,
     "status": "ok",
     "timestamp": 1750704668542,
     "user": {
      "displayName": "Maniraguha Nshuti David",
      "userId": "13190876237581765185"
     },
     "user_tz": -120
    },
    "id": "hhXZvZ5EdmOY",
    "outputId": "9a0f43ed-69e2-487b-f255-311cbb9c8073"
   },
   "outputs": [
    {
     "data": {
      "text/plain": [
       "torch.Size([2, 2])"
      ]
     },
     "execution_count": 12,
     "metadata": {},
     "output_type": "execute_result"
    }
   ],
   "source": [
    "MATRIX.shape"
   ]
  },
  {
   "cell_type": "code",
   "execution_count": 13,
   "metadata": {
    "colab": {
     "base_uri": "https://localhost:8080/"
    },
    "executionInfo": {
     "elapsed": 9,
     "status": "ok",
     "timestamp": 1750704668552,
     "user": {
      "displayName": "Maniraguha Nshuti David",
      "userId": "13190876237581765185"
     },
     "user_tz": -120
    },
    "id": "-bgHAGqDd2WS",
    "outputId": "4c67d63c-8b66-46f0-937d-e0774e075e91"
   },
   "outputs": [
    {
     "data": {
      "text/plain": [
       "tensor([ 9, 10])"
      ]
     },
     "execution_count": 13,
     "metadata": {},
     "output_type": "execute_result"
    }
   ],
   "source": [
    "MATRIX[1]"
   ]
  },
  {
   "cell_type": "code",
   "execution_count": 14,
   "metadata": {
    "colab": {
     "base_uri": "https://localhost:8080/"
    },
    "executionInfo": {
     "elapsed": 56,
     "status": "ok",
     "timestamp": 1750704668610,
     "user": {
      "displayName": "Maniraguha Nshuti David",
      "userId": "13190876237581765185"
     },
     "user_tz": -120
    },
    "id": "W2Z5rG1Cd-Z3",
    "outputId": "2d87a269-e802-46c6-f9b5-d8c5a7645063"
   },
   "outputs": [
    {
     "data": {
      "text/plain": [
       "tensor([[[1, 2, 3],\n",
       "         [3, 6, 9],\n",
       "         [2, 4, 5]]])"
      ]
     },
     "execution_count": 14,
     "metadata": {},
     "output_type": "execute_result"
    }
   ],
   "source": [
    "# TENSOR\n",
    "TENSOR = torch.tensor([[[1,2,3],\n",
    "                        [3,6,9],\n",
    "                        [2,4,5]]])\n",
    "TENSOR"
   ]
  },
  {
   "cell_type": "code",
   "execution_count": 15,
   "metadata": {
    "colab": {
     "base_uri": "https://localhost:8080/"
    },
    "executionInfo": {
     "elapsed": 24,
     "status": "ok",
     "timestamp": 1750704668611,
     "user": {
      "displayName": "Maniraguha Nshuti David",
      "userId": "13190876237581765185"
     },
     "user_tz": -120
    },
    "id": "lZVnno_ZeMC7",
    "outputId": "dd59d9bf-c88a-4e72-9ebf-c9d3ca9a0cee"
   },
   "outputs": [
    {
     "data": {
      "text/plain": [
       "3"
      ]
     },
     "execution_count": 15,
     "metadata": {},
     "output_type": "execute_result"
    }
   ],
   "source": [
    "TENSOR.ndim"
   ]
  },
  {
   "cell_type": "code",
   "execution_count": 16,
   "metadata": {
    "colab": {
     "base_uri": "https://localhost:8080/"
    },
    "executionInfo": {
     "elapsed": 13,
     "status": "ok",
     "timestamp": 1750704668612,
     "user": {
      "displayName": "Maniraguha Nshuti David",
      "userId": "13190876237581765185"
     },
     "user_tz": -120
    },
    "id": "zzUO1Urzecv9",
    "outputId": "672f49f3-89a1-4a2b-dd50-e7b59c392d31"
   },
   "outputs": [
    {
     "data": {
      "text/plain": [
       "torch.Size([1, 3, 3])"
      ]
     },
     "execution_count": 16,
     "metadata": {},
     "output_type": "execute_result"
    }
   ],
   "source": [
    "TENSOR.shape"
   ]
  },
  {
   "cell_type": "code",
   "execution_count": 17,
   "metadata": {
    "colab": {
     "base_uri": "https://localhost:8080/"
    },
    "executionInfo": {
     "elapsed": 16,
     "status": "ok",
     "timestamp": 1750704668629,
     "user": {
      "displayName": "Maniraguha Nshuti David",
      "userId": "13190876237581765185"
     },
     "user_tz": -120
    },
    "id": "qVurUXnDegKm",
    "outputId": "3b40db41-f5da-46e5-e8d8-9b919cbc5b64"
   },
   "outputs": [
    {
     "data": {
      "text/plain": [
       "tensor([[1, 2, 3],\n",
       "        [3, 6, 9],\n",
       "        [2, 4, 5]])"
      ]
     },
     "execution_count": 17,
     "metadata": {},
     "output_type": "execute_result"
    }
   ],
   "source": [
    "TENSOR[0]"
   ]
  },
  {
   "cell_type": "markdown",
   "metadata": {
    "id": "PlPHNPcdkezN"
   },
   "source": [
    "### Random Tensors"
   ]
  },
  {
   "cell_type": "markdown",
   "metadata": {
    "id": "hHSyUxaWj_RR"
   },
   "source": [
    "A random tensor is simply a tensor filled with random numbers.\n",
    "\n",
    "Instead of manually giving numbers (like [1, 2, 3]), you let PyTorch generate random values for you."
   ]
  },
  {
   "cell_type": "code",
   "execution_count": 18,
   "metadata": {
    "colab": {
     "base_uri": "https://localhost:8080/"
    },
    "executionInfo": {
     "elapsed": 19,
     "status": "ok",
     "timestamp": 1750704668640,
     "user": {
      "displayName": "Maniraguha Nshuti David",
      "userId": "13190876237581765185"
     },
     "user_tz": -120
    },
    "id": "SQvEBGZmk838",
    "outputId": "604f5dda-a7ae-4cfe-c533-5fc76a232639"
   },
   "outputs": [
    {
     "data": {
      "text/plain": [
       "tensor([[0.3796, 0.7441, 0.7129, 0.0169],\n",
       "        [0.3593, 0.2577, 0.7231, 0.5151],\n",
       "        [0.4571, 0.2744, 0.5353, 0.3862]])"
      ]
     },
     "execution_count": 18,
     "metadata": {},
     "output_type": "execute_result"
    }
   ],
   "source": [
    "#Create a random Tensor of size (3,4)\n",
    "random_tensor =torch.rand(3,4)\n",
    "random_tensor"
   ]
  },
  {
   "cell_type": "code",
   "execution_count": 19,
   "metadata": {
    "colab": {
     "base_uri": "https://localhost:8080/"
    },
    "executionInfo": {
     "elapsed": 10,
     "status": "ok",
     "timestamp": 1750704668651,
     "user": {
      "displayName": "Maniraguha Nshuti David",
      "userId": "13190876237581765185"
     },
     "user_tz": -120
    },
    "id": "FA5MqgywpWtU",
    "outputId": "9a7fc495-7244-4065-ab6a-a31729639f34"
   },
   "outputs": [
    {
     "data": {
      "text/plain": [
       "tensor([[[0.0283, 0.0297, 0.0841, 0.7967],\n",
       "         [0.6212, 0.2814, 0.5666, 0.2893],\n",
       "         [0.3649, 0.0179, 0.7108, 0.6658]],\n",
       "\n",
       "        [[0.9952, 0.4315, 0.7590, 0.5319],\n",
       "         [0.3926, 0.8060, 0.5273, 0.0759],\n",
       "         [0.9260, 0.3668, 0.1360, 0.0734]]])"
      ]
     },
     "execution_count": 19,
     "metadata": {},
     "output_type": "execute_result"
    }
   ],
   "source": [
    "random_tensor_2 = torch.rand(2,3,4)\n",
    "random_tensor_2"
   ]
  },
  {
   "cell_type": "code",
   "execution_count": 20,
   "metadata": {
    "colab": {
     "base_uri": "https://localhost:8080/"
    },
    "executionInfo": {
     "elapsed": 9,
     "status": "ok",
     "timestamp": 1750704668660,
     "user": {
      "displayName": "Maniraguha Nshuti David",
      "userId": "13190876237581765185"
     },
     "user_tz": -120
    },
    "id": "ARFw38GYlTjU",
    "outputId": "91f0141c-a71f-4b21-9adf-da352e91a524"
   },
   "outputs": [
    {
     "data": {
      "text/plain": [
       "(2, 3)"
      ]
     },
     "execution_count": 20,
     "metadata": {},
     "output_type": "execute_result"
    }
   ],
   "source": [
    "random_tensor.ndim,random_tensor_2.ndim"
   ]
  },
  {
   "cell_type": "code",
   "execution_count": 21,
   "metadata": {
    "colab": {
     "base_uri": "https://localhost:8080/"
    },
    "executionInfo": {
     "elapsed": 7,
     "status": "ok",
     "timestamp": 1750704668669,
     "user": {
      "displayName": "Maniraguha Nshuti David",
      "userId": "13190876237581765185"
     },
     "user_tz": -120
    },
    "id": "Z1KtCefVlZUA",
    "outputId": "66e6a095-f422-48cd-d151-4b4d93991c5b"
   },
   "outputs": [
    {
     "data": {
      "text/plain": [
       "(torch.Size([224, 224, 3]), 3)"
      ]
     },
     "execution_count": 21,
     "metadata": {},
     "output_type": "execute_result"
    }
   ],
   "source": [
    "# Create a random Tensor with similar shape to an image\n",
    "random_image_size_tensor = torch.rand(size=(224,224,3)) # height, width, color channels (R,G,B)\n",
    "random_image_size_tensor.shape, random_image_size_tensor.ndim"
   ]
  },
  {
   "cell_type": "markdown",
   "metadata": {
    "id": "BHAsnnEAl5f7"
   },
   "source": [
    "### Zeros and ones"
   ]
  },
  {
   "cell_type": "code",
   "execution_count": 22,
   "metadata": {
    "colab": {
     "base_uri": "https://localhost:8080/"
    },
    "executionInfo": {
     "elapsed": 7,
     "status": "ok",
     "timestamp": 1750704668678,
     "user": {
      "displayName": "Maniraguha Nshuti David",
      "userId": "13190876237581765185"
     },
     "user_tz": -120
    },
    "id": "g6uHla11mp3J",
    "outputId": "3f513266-d1e0-4897-d361-5985ac618765"
   },
   "outputs": [
    {
     "data": {
      "text/plain": [
       "tensor([[0., 0., 0., 0.],\n",
       "        [0., 0., 0., 0.],\n",
       "        [0., 0., 0., 0.]])"
      ]
     },
     "execution_count": 22,
     "metadata": {},
     "output_type": "execute_result"
    }
   ],
   "source": [
    "# Create a tensor of all zeroes\n",
    "zeros = torch.zeros(size=(3,4))\n",
    "zeros"
   ]
  },
  {
   "cell_type": "code",
   "execution_count": 23,
   "metadata": {
    "colab": {
     "base_uri": "https://localhost:8080/"
    },
    "executionInfo": {
     "elapsed": 52,
     "status": "ok",
     "timestamp": 1750704668731,
     "user": {
      "displayName": "Maniraguha Nshuti David",
      "userId": "13190876237581765185"
     },
     "user_tz": -120
    },
    "id": "NtcfpNs0m1l0",
    "outputId": "14d150a7-ed08-4118-cd63-28f639fc66fa"
   },
   "outputs": [
    {
     "data": {
      "text/plain": [
       "tensor([[1., 1., 1., 1.],\n",
       "        [1., 1., 1., 1.],\n",
       "        [1., 1., 1., 1.]])"
      ]
     },
     "execution_count": 23,
     "metadata": {},
     "output_type": "execute_result"
    }
   ],
   "source": [
    "# create a tensor of all ones\n",
    "ones = torch.ones(size=(3,4))\n",
    "ones"
   ]
  },
  {
   "cell_type": "code",
   "execution_count": 24,
   "metadata": {
    "colab": {
     "base_uri": "https://localhost:8080/"
    },
    "executionInfo": {
     "elapsed": 13,
     "status": "ok",
     "timestamp": 1750704668734,
     "user": {
      "displayName": "Maniraguha Nshuti David",
      "userId": "13190876237581765185"
     },
     "user_tz": -120
    },
    "id": "FEqvC16RnFAl",
    "outputId": "f9f89452-d599-4d69-c314-3bc6d0305888"
   },
   "outputs": [
    {
     "data": {
      "text/plain": [
       "torch.float32"
      ]
     },
     "execution_count": 24,
     "metadata": {},
     "output_type": "execute_result"
    }
   ],
   "source": [
    "ones.dtype"
   ]
  },
  {
   "cell_type": "markdown",
   "metadata": {
    "id": "SWLF0qj-nJNr"
   },
   "source": [
    "### creating a range of tensors and  tensors-like"
   ]
  },
  {
   "cell_type": "code",
   "execution_count": 25,
   "metadata": {
    "colab": {
     "base_uri": "https://localhost:8080/"
    },
    "executionInfo": {
     "elapsed": 25,
     "status": "ok",
     "timestamp": 1750704668760,
     "user": {
      "displayName": "Maniraguha Nshuti David",
      "userId": "13190876237581765185"
     },
     "user_tz": -120
    },
    "id": "OeQ6_C3RnkT2",
    "outputId": "1abe0745-06ca-42e5-b5d5-5eb535675d8b"
   },
   "outputs": [
    {
     "data": {
      "text/plain": [
       "tensor([ 1,  2,  3,  4,  5,  6,  7,  8,  9, 10])"
      ]
     },
     "execution_count": 25,
     "metadata": {},
     "output_type": "execute_result"
    }
   ],
   "source": [
    "# use torch.range()\n",
    "one_to_ten = torch.arange(1,11)\n",
    "one_to_ten"
   ]
  },
  {
   "cell_type": "code",
   "execution_count": 26,
   "metadata": {
    "colab": {
     "base_uri": "https://localhost:8080/"
    },
    "executionInfo": {
     "elapsed": 14,
     "status": "ok",
     "timestamp": 1750704668825,
     "user": {
      "displayName": "Maniraguha Nshuti David",
      "userId": "13190876237581765185"
     },
     "user_tz": -120
    },
    "id": "16oZnGxlnyOK",
    "outputId": "34f23f08-b1cc-47de-8946-f8c3151496f4"
   },
   "outputs": [
    {
     "data": {
      "text/plain": [
       "tensor([ 1,  2,  3,  4,  5,  6,  7,  8,  9, 10])"
      ]
     },
     "execution_count": 26,
     "metadata": {},
     "output_type": "execute_result"
    }
   ],
   "source": [
    "one_to_ten_another = torch.arange(start=1, end=11, step=1)\n",
    "one_to_ten_another"
   ]
  },
  {
   "cell_type": "code",
   "execution_count": 27,
   "metadata": {
    "colab": {
     "base_uri": "https://localhost:8080/"
    },
    "executionInfo": {
     "elapsed": 11,
     "status": "ok",
     "timestamp": 1750704668833,
     "user": {
      "displayName": "Maniraguha Nshuti David",
      "userId": "13190876237581765185"
     },
     "user_tz": -120
    },
    "id": "NLfcgcV7qOoU",
    "outputId": "d471e04b-c62b-42d7-c29d-e1d15eaea928"
   },
   "outputs": [
    {
     "data": {
      "text/plain": [
       "tensor([1, 3, 5, 7, 9])"
      ]
     },
     "execution_count": 27,
     "metadata": {},
     "output_type": "execute_result"
    }
   ],
   "source": [
    "another_arange = torch.arange(start=1, end=11, step=2)\n",
    "another_arange"
   ]
  },
  {
   "cell_type": "code",
   "execution_count": 28,
   "metadata": {
    "colab": {
     "base_uri": "https://localhost:8080/"
    },
    "executionInfo": {
     "elapsed": 9,
     "status": "ok",
     "timestamp": 1750704668843,
     "user": {
      "displayName": "Maniraguha Nshuti David",
      "userId": "13190876237581765185"
     },
     "user_tz": -120
    },
    "id": "bHOw2-sIo1RM",
    "outputId": "6579afb1-93f9-4c1a-ffaf-f53b320b1415"
   },
   "outputs": [
    {
     "data": {
      "text/plain": [
       "tensor([  0,  50, 100, 150, 200, 250, 300, 350, 400, 450, 500, 550, 600, 650,\n",
       "        700, 750, 800, 850, 900, 950])"
      ]
     },
     "execution_count": 28,
     "metadata": {},
     "output_type": "execute_result"
    }
   ],
   "source": [
    "steps_list = torch.arange(start=0, end=1000, step=50)\n",
    "steps_list"
   ]
  },
  {
   "cell_type": "code",
   "execution_count": 29,
   "metadata": {
    "colab": {
     "base_uri": "https://localhost:8080/"
    },
    "executionInfo": {
     "elapsed": 8,
     "status": "ok",
     "timestamp": 1750704668855,
     "user": {
      "displayName": "Maniraguha Nshuti David",
      "userId": "13190876237581765185"
     },
     "user_tz": -120
    },
    "id": "jEIs13SgpJ11",
    "outputId": "c0fee2bf-a0b7-4846-973b-a3227fcc5ca3"
   },
   "outputs": [
    {
     "data": {
      "text/plain": [
       "tensor([0, 0, 0, 0, 0, 0, 0, 0, 0, 0])"
      ]
     },
     "execution_count": 29,
     "metadata": {},
     "output_type": "execute_result"
    }
   ],
   "source": [
    "# Creating tensors like\n",
    "ten_zeros = torch.zeros_like(input=one_to_ten)\n",
    "ten_zeros"
   ]
  },
  {
   "cell_type": "code",
   "execution_count": 30,
   "metadata": {
    "colab": {
     "base_uri": "https://localhost:8080/"
    },
    "executionInfo": {
     "elapsed": 9,
     "status": "ok",
     "timestamp": 1750704668867,
     "user": {
      "displayName": "Maniraguha Nshuti David",
      "userId": "13190876237581765185"
     },
     "user_tz": -120
    },
    "id": "zprPERcerHZ_",
    "outputId": "ea8237f6-f35e-49f8-8a46-28227af1f9dd"
   },
   "outputs": [
    {
     "data": {
      "text/plain": [
       "tensor([1, 1, 1, 1, 1, 1, 1, 1, 1, 1])"
      ]
     },
     "execution_count": 30,
     "metadata": {},
     "output_type": "execute_result"
    }
   ],
   "source": [
    "ten_ones = torch.ones_like(input=one_to_ten)\n",
    "ten_ones"
   ]
  },
  {
   "cell_type": "markdown",
   "metadata": {
    "id": "cFlNQGMHpvmk"
   },
   "source": [
    "### Tensor datatypes"
   ]
  },
  {
   "cell_type": "code",
   "execution_count": 31,
   "metadata": {
    "colab": {
     "base_uri": "https://localhost:8080/"
    },
    "executionInfo": {
     "elapsed": 9,
     "status": "ok",
     "timestamp": 1750704668877,
     "user": {
      "displayName": "Maniraguha Nshuti David",
      "userId": "13190876237581765185"
     },
     "user_tz": -120
    },
    "id": "kx6LUWg6qRRx",
    "outputId": "c6f65a26-59bc-4245-86db-5e183247ad86"
   },
   "outputs": [
    {
     "data": {
      "text/plain": [
       "tensor([3., 6., 9.])"
      ]
     },
     "execution_count": 31,
     "metadata": {},
     "output_type": "execute_result"
    }
   ],
   "source": [
    "# Float 32 tensor\n",
    "float_32_tensor = torch.tensor([3.0, 6.0, 9.0],\n",
    "                               dtype=torch.float32, # what datatype is the tensor (e.g. float32 or float16)\n",
    "                               device=None, # what device is your tensor on\n",
    "                               requires_grad=False) # whether or not to track gradients with this tensors operations\n",
    "float_32_tensor"
   ]
  },
  {
   "cell_type": "code",
   "execution_count": 32,
   "metadata": {
    "colab": {
     "base_uri": "https://localhost:8080/"
    },
    "executionInfo": {
     "elapsed": 22,
     "status": "ok",
     "timestamp": 1750704668901,
     "user": {
      "displayName": "Maniraguha Nshuti David",
      "userId": "13190876237581765185"
     },
     "user_tz": -120
    },
    "id": "gdeQlBtOqg3F",
    "outputId": "cee89046-1516-442f-f8a4-c8950ba0e874"
   },
   "outputs": [
    {
     "data": {
      "text/plain": [
       "torch.float32"
      ]
     },
     "execution_count": 32,
     "metadata": {},
     "output_type": "execute_result"
    }
   ],
   "source": [
    "float_32_tensor.dtype"
   ]
  },
  {
   "cell_type": "code",
   "execution_count": 33,
   "metadata": {
    "colab": {
     "base_uri": "https://localhost:8080/"
    },
    "executionInfo": {
     "elapsed": 17,
     "status": "ok",
     "timestamp": 1750704668904,
     "user": {
      "displayName": "Maniraguha Nshuti David",
      "userId": "13190876237581765185"
     },
     "user_tz": -120
    },
    "id": "9IQ4smm4qpQZ",
    "outputId": "c7d5ebd1-7be5-4dae-d71d-6e564fedf3e2"
   },
   "outputs": [
    {
     "name": "stdout",
     "output_type": "stream",
     "text": [
      "tensor([3., 6., 9.], dtype=torch.float16)\n"
     ]
    }
   ],
   "source": [
    "float_16_tensor =float_32_tensor.type(torch.float16)\n",
    "print(float_16_tensor)\n"
   ]
  },
  {
   "cell_type": "code",
   "execution_count": 34,
   "metadata": {
    "colab": {
     "base_uri": "https://localhost:8080/"
    },
    "executionInfo": {
     "elapsed": 42,
     "status": "ok",
     "timestamp": 1750704668942,
     "user": {
      "displayName": "Maniraguha Nshuti David",
      "userId": "13190876237581765185"
     },
     "user_tz": -120
    },
    "id": "IQODeMeRzsoh",
    "outputId": "ca5fb0e8-e925-45d7-d7f0-3a9eb55bb3f9"
   },
   "outputs": [
    {
     "data": {
      "text/plain": [
       "tensor([ 9., 36., 81.])"
      ]
     },
     "execution_count": 34,
     "metadata": {},
     "output_type": "execute_result"
    }
   ],
   "source": [
    "float_16_tensor * float_32_tensor"
   ]
  },
  {
   "cell_type": "code",
   "execution_count": 35,
   "metadata": {
    "colab": {
     "base_uri": "https://localhost:8080/"
    },
    "executionInfo": {
     "elapsed": 15,
     "status": "ok",
     "timestamp": 1750704668963,
     "user": {
      "displayName": "Maniraguha Nshuti David",
      "userId": "13190876237581765185"
     },
     "user_tz": -120
    },
    "id": "k4fsRuBdz08E",
    "outputId": "0f79d7ba-80ec-41e1-dd0a-5b8ebd922d9e"
   },
   "outputs": [
    {
     "data": {
      "text/plain": [
       "tensor([3, 6, 9], dtype=torch.int32)"
      ]
     },
     "execution_count": 35,
     "metadata": {},
     "output_type": "execute_result"
    }
   ],
   "source": [
    "int_32_tensor = torch.tensor([3,6,9], dtype=torch.int32)\n",
    "int_32_tensor"
   ]
  },
  {
   "cell_type": "code",
   "execution_count": 36,
   "metadata": {
    "colab": {
     "base_uri": "https://localhost:8080/"
    },
    "executionInfo": {
     "elapsed": 15,
     "status": "ok",
     "timestamp": 1750704668980,
     "user": {
      "displayName": "Maniraguha Nshuti David",
      "userId": "13190876237581765185"
     },
     "user_tz": -120
    },
    "id": "TfcxjnhC0uBG",
    "outputId": "c13d5e8f-a81e-47b2-a51e-839389291971"
   },
   "outputs": [
    {
     "data": {
      "text/plain": [
       "tensor([ 9., 36., 81.])"
      ]
     },
     "execution_count": 36,
     "metadata": {},
     "output_type": "execute_result"
    }
   ],
   "source": [
    "float_32_tensor * int_32_tensor"
   ]
  },
  {
   "cell_type": "markdown",
   "metadata": {
    "id": "vGOLEycf00B-"
   },
   "source": [
    "### Getting information from tensors\n",
    "\n",
    "Once you've created tensors (or someone else or a PyTorch module has created them for you), you might want to get some information from them.\n",
    "\n",
    "We've seen these before but three of the most common attributes you'll want to find out about tensors are:\n",
    "\n",
    "shape - what shape is the tensor? (some operations require specific shape rules)\n",
    "dtype - what datatype are the elements within the tensor stored in?\n",
    "device - what device is the tensor stored on? (usually GPU or CPU)\n",
    "Let's create a random tensor and find out details about it."
   ]
  },
  {
   "cell_type": "code",
   "execution_count": 37,
   "metadata": {
    "colab": {
     "base_uri": "https://localhost:8080/"
    },
    "executionInfo": {
     "elapsed": 20,
     "status": "ok",
     "timestamp": 1750704669002,
     "user": {
      "displayName": "Maniraguha Nshuti David",
      "userId": "13190876237581765185"
     },
     "user_tz": -120
    },
    "id": "hBNVU33L1owt",
    "outputId": "ff3ac96d-5ba3-490b-d278-59170298ebff"
   },
   "outputs": [
    {
     "name": "stdout",
     "output_type": "stream",
     "text": [
      "tensor([[0.0537, 0.6605, 0.5102, 0.3059],\n",
      "        [0.0710, 0.0813, 0.3880, 0.8427],\n",
      "        [0.6248, 0.7017, 0.5735, 0.6141]])\n",
      "Shape of tensor: torch.Size([3, 4])\n",
      "Datatype of tensor: torch.float32\n",
      "Device tensor is on: cpu\n"
     ]
    }
   ],
   "source": [
    "# Create a tensor\n",
    "some_tensor = torch.rand(3, 4)\n",
    "\n",
    "# Find its details\n",
    "print(some_tensor)\n",
    "print(f\"Shape of tensor: {some_tensor.shape}\")\n",
    "print(f\"Datatype of tensor: {some_tensor.dtype}\")\n",
    "print(f\"Device tensor is on: {some_tensor.device}\") # will be default to CPU"
   ]
  },
  {
   "cell_type": "markdown",
   "metadata": {
    "id": "NN2kaLaT19Xy"
   },
   "source": [
    "### Manipulating tensors (tensor operations)\n",
    "In deep learning, data (images, text, video, audio, protein structures, etc) gets represented as tensors.\n",
    "\n",
    "A model learns by investigating those tensors and performing a series of operations (could be 1,000,000s+) on tensors to create a representation of the patterns in the input data.\n",
    "\n",
    "These operations are often a wonderful dance between:\n",
    "\n",
    "*Addition\n",
    "*Substraction\n",
    "*Multiplication (element-wise)\n",
    "*Division\n",
    "*Matrix multiplication\n",
    "And that's it. Sure there are a few more here and there but these are the basic building blocks of neural networks.\n",
    "\n",
    "Stacking these building blocks in the right way, you can create the most sophisticated of neural networks (just like lego!).\n",
    "\n",
    "Basic operations\n",
    "Let's start with a few of the fundamental operations, addition (+), subtraction (-), mutliplication (*).\n",
    "\n",
    "They work just as you think they would."
   ]
  },
  {
   "cell_type": "code",
   "execution_count": 38,
   "metadata": {
    "colab": {
     "base_uri": "https://localhost:8080/"
    },
    "executionInfo": {
     "elapsed": 19,
     "status": "ok",
     "timestamp": 1750704669023,
     "user": {
      "displayName": "Maniraguha Nshuti David",
      "userId": "13190876237581765185"
     },
     "user_tz": -120
    },
    "id": "wpV4cS5N3bak",
    "outputId": "d2d9e7a7-19b8-4c2b-c628-3b0b689cab49"
   },
   "outputs": [
    {
     "data": {
      "text/plain": [
       "tensor([11, 12, 13])"
      ]
     },
     "execution_count": 38,
     "metadata": {},
     "output_type": "execute_result"
    }
   ],
   "source": [
    "# Create a tensor and add 10 to it\n",
    "tensor = torch.tensor([1,2,3])\n",
    "tensor + 10"
   ]
  },
  {
   "cell_type": "code",
   "execution_count": 39,
   "metadata": {
    "colab": {
     "base_uri": "https://localhost:8080/"
    },
    "executionInfo": {
     "elapsed": 11,
     "status": "ok",
     "timestamp": 1750704669036,
     "user": {
      "displayName": "Maniraguha Nshuti David",
      "userId": "13190876237581765185"
     },
     "user_tz": -120
    },
    "id": "IopFFug634vT",
    "outputId": "edfd3bbe-b323-4fd8-8122-9c2360ac7fbe"
   },
   "outputs": [
    {
     "data": {
      "text/plain": [
       "tensor([10, 20, 30])"
      ]
     },
     "execution_count": 39,
     "metadata": {},
     "output_type": "execute_result"
    }
   ],
   "source": [
    "# Multiply by 10\n",
    "tensor * 10"
   ]
  },
  {
   "cell_type": "code",
   "execution_count": 40,
   "metadata": {
    "colab": {
     "base_uri": "https://localhost:8080/"
    },
    "executionInfo": {
     "elapsed": 49,
     "status": "ok",
     "timestamp": 1750704669088,
     "user": {
      "displayName": "Maniraguha Nshuti David",
      "userId": "13190876237581765185"
     },
     "user_tz": -120
    },
    "id": "kRIiwKmk4I-0",
    "outputId": "44c9a215-424a-4bfe-d1fd-597b14379f72"
   },
   "outputs": [
    {
     "data": {
      "text/plain": [
       "tensor([-9, -8, -7])"
      ]
     },
     "execution_count": 40,
     "metadata": {},
     "output_type": "execute_result"
    }
   ],
   "source": [
    "# Subtract 10\n",
    "tensor - 10"
   ]
  },
  {
   "cell_type": "code",
   "execution_count": 41,
   "metadata": {
    "colab": {
     "base_uri": "https://localhost:8080/"
    },
    "executionInfo": {
     "elapsed": 36,
     "status": "ok",
     "timestamp": 1750704669128,
     "user": {
      "displayName": "Maniraguha Nshuti David",
      "userId": "13190876237581765185"
     },
     "user_tz": -120
    },
    "id": "9zuMi-nH4YqM",
    "outputId": "d4cf858e-0a1c-4872-e2c2-eff9c4745f78"
   },
   "outputs": [
    {
     "data": {
      "text/plain": [
       "tensor([10, 20, 30])"
      ]
     },
     "execution_count": 41,
     "metadata": {},
     "output_type": "execute_result"
    }
   ],
   "source": [
    "# Try out Pytorch in-built functions\n",
    "torch.mul(tensor, 10)"
   ]
  },
  {
   "cell_type": "code",
   "execution_count": 42,
   "metadata": {
    "colab": {
     "base_uri": "https://localhost:8080/"
    },
    "executionInfo": {
     "elapsed": 28,
     "status": "ok",
     "timestamp": 1750704669130,
     "user": {
      "displayName": "Maniraguha Nshuti David",
      "userId": "13190876237581765185"
     },
     "user_tz": -120
    },
    "id": "TKDC7V014sKN",
    "outputId": "0750b53b-5a7a-4843-c9e9-4b057ba9b4e7"
   },
   "outputs": [
    {
     "data": {
      "text/plain": [
       "tensor([11, 12, 13])"
      ]
     },
     "execution_count": 42,
     "metadata": {},
     "output_type": "execute_result"
    }
   ],
   "source": [
    "torch.add(tensor, 10)"
   ]
  },
  {
   "cell_type": "markdown",
   "metadata": {
    "id": "ieiVUtTM7TWq"
   },
   "source": [
    "### Matrix multiplication\n",
    "\n",
    "two main ways of perfoming multipliocation in neural networks and deep Learning\n",
    "1. Element-wise multiplication\n",
    "2. MAtrix multiplication(dot product)"
   ]
  },
  {
   "cell_type": "code",
   "execution_count": 43,
   "metadata": {
    "colab": {
     "base_uri": "https://localhost:8080/"
    },
    "executionInfo": {
     "elapsed": 17,
     "status": "ok",
     "timestamp": 1750704669131,
     "user": {
      "displayName": "Maniraguha Nshuti David",
      "userId": "13190876237581765185"
     },
     "user_tz": -120
    },
    "id": "jTl0loTgbg8N",
    "outputId": "67a52815-3696-422b-aab2-aa5fdbbfa933"
   },
   "outputs": [
    {
     "name": "stdout",
     "output_type": "stream",
     "text": [
      "tensor([1, 2, 3]) * tensor([1, 2, 3])\n",
      "Equals: tensor([1, 4, 9])\n"
     ]
    }
   ],
   "source": [
    "# Element-wise multiplication\n",
    "print(tensor, \"*\", tensor)\n",
    "print(f\"Equals: {tensor * tensor}\")"
   ]
  },
  {
   "cell_type": "code",
   "execution_count": 44,
   "metadata": {
    "colab": {
     "base_uri": "https://localhost:8080/"
    },
    "executionInfo": {
     "elapsed": 15,
     "status": "ok",
     "timestamp": 1750704669142,
     "user": {
      "displayName": "Maniraguha Nshuti David",
      "userId": "13190876237581765185"
     },
     "user_tz": -120
    },
    "id": "PLHKM9LLb1uk",
    "outputId": "36bb7541-3ff9-4d5f-fac4-8a8757c63631"
   },
   "outputs": [
    {
     "data": {
      "text/plain": [
       "tensor(14)"
      ]
     },
     "execution_count": 44,
     "metadata": {},
     "output_type": "execute_result"
    }
   ],
   "source": [
    "# Matrix multiplication\n",
    "torch.matmul(tensor, tensor)"
   ]
  },
  {
   "cell_type": "code",
   "execution_count": 45,
   "metadata": {
    "colab": {
     "base_uri": "https://localhost:8080/"
    },
    "executionInfo": {
     "elapsed": 27,
     "status": "ok",
     "timestamp": 1750704669171,
     "user": {
      "displayName": "Maniraguha Nshuti David",
      "userId": "13190876237581765185"
     },
     "user_tz": -120
    },
    "id": "nlgyia2ZcDvJ",
    "outputId": "de449bd1-7a35-44a9-a87a-13fdca960c33"
   },
   "outputs": [
    {
     "data": {
      "text/plain": [
       "14"
      ]
     },
     "execution_count": 45,
     "metadata": {},
     "output_type": "execute_result"
    }
   ],
   "source": [
    "# Matrix multiplication by hand\n",
    "1*1 + 2*2 + 3*3"
   ]
  },
  {
   "cell_type": "code",
   "execution_count": 46,
   "metadata": {
    "colab": {
     "base_uri": "https://localhost:8080/"
    },
    "executionInfo": {
     "elapsed": 35,
     "status": "ok",
     "timestamp": 1750704669209,
     "user": {
      "displayName": "Maniraguha Nshuti David",
      "userId": "13190876237581765185"
     },
     "user_tz": -120
    },
    "id": "OE6H1WCecg0h",
    "outputId": "7e920a35-f716-49d5-cd7f-0a2d56119525"
   },
   "outputs": [
    {
     "name": "stdout",
     "output_type": "stream",
     "text": [
      "CPU times: user 419 µs, sys: 68 µs, total: 487 µs\n",
      "Wall time: 606 µs\n"
     ]
    },
    {
     "data": {
      "text/plain": [
       "tensor(14)"
      ]
     },
     "execution_count": 46,
     "metadata": {},
     "output_type": "execute_result"
    }
   ],
   "source": [
    "%%time\n",
    "value = 0\n",
    "for i in range(len(tensor)):\n",
    "  value += tensor[i] * tensor[i]\n",
    "value"
   ]
  },
  {
   "cell_type": "code",
   "execution_count": 47,
   "metadata": {
    "colab": {
     "base_uri": "https://localhost:8080/"
    },
    "executionInfo": {
     "elapsed": 31,
     "status": "ok",
     "timestamp": 1750704669275,
     "user": {
      "displayName": "Maniraguha Nshuti David",
      "userId": "13190876237581765185"
     },
     "user_tz": -120
    },
    "id": "-JvD0vntdM30",
    "outputId": "199eeca1-e286-46e8-f696-a8e2d6b4697b"
   },
   "outputs": [
    {
     "name": "stdout",
     "output_type": "stream",
     "text": [
      "CPU times: user 95 µs, sys: 15 µs, total: 110 µs\n",
      "Wall time: 220 µs\n"
     ]
    },
    {
     "data": {
      "text/plain": [
       "tensor(14)"
      ]
     },
     "execution_count": 47,
     "metadata": {},
     "output_type": "execute_result"
    }
   ],
   "source": [
    "%%time\n",
    "torch.matmul(tensor, tensor)"
   ]
  },
  {
   "cell_type": "code",
   "execution_count": 48,
   "metadata": {
    "colab": {
     "base_uri": "https://localhost:8080/"
    },
    "executionInfo": {
     "elapsed": 17,
     "status": "ok",
     "timestamp": 1750704669276,
     "user": {
      "displayName": "Maniraguha Nshuti David",
      "userId": "13190876237581765185"
     },
     "user_tz": -120
    },
    "id": "D7cEvUkC0c_X",
    "outputId": "ec32fd65-8911-4805-fcdd-38f26a067fb7"
   },
   "outputs": [
    {
     "data": {
      "text/plain": [
       "tensor(14)"
      ]
     },
     "execution_count": 48,
     "metadata": {},
     "output_type": "execute_result"
    }
   ],
   "source": [
    "# Can also use the \"@\" symbol for matrix multiplication, though not recommended\n",
    "tensor @ tensor"
   ]
  },
  {
   "cell_type": "markdown",
   "metadata": {
    "id": "a6yTjyGyeaxw"
   },
   "source": [
    "The main two rules for matrix multiplication to remember are:\n",
    "\n",
    "The inner dimensions must match:\n",
    "\n",
    "(3, 2) @ (3, 2) won't work<br>\n",
    "(2, 3) @ (3, 2) will work<br>\n",
    "(3, 2) @ (2, 3) will work<br>\n",
    "The resulting matrix has the shape of the outer dimensions:\n",
    "\n",
    "(2, 3) @ (3, 2) -> (2, 2)<br>\n",
    "(3, 2) @ (2, 3) -> (3, 3)<br>\n",
    "Note: \"@\" in Python is the symbol for matrix multiplication.\n",
    "\n",
    "Resource: You can see all of the rules for matrix multiplication using torch.matmul() in the PyTorch documentation."
   ]
  },
  {
   "cell_type": "code",
   "execution_count": 52,
   "metadata": {
    "executionInfo": {
     "elapsed": 44,
     "status": "ok",
     "timestamp": 1750704702059,
     "user": {
      "displayName": "Maniraguha Nshuti David",
      "userId": "13190876237581765185"
     },
     "user_tz": -120
    },
    "id": "Kls1H95F0GRY"
   },
   "outputs": [],
   "source": [
    "# torch.matmul(torch.rand(3,2), torch.rand(3,2))"
   ]
  },
  {
   "cell_type": "code",
   "execution_count": 50,
   "metadata": {
    "colab": {
     "base_uri": "https://localhost:8080/"
    },
    "executionInfo": {
     "elapsed": 9,
     "status": "ok",
     "timestamp": 1750704689154,
     "user": {
      "displayName": "Maniraguha Nshuti David",
      "userId": "13190876237581765185"
     },
     "user_tz": -120
    },
    "id": "pU-fZw7Y1GRg",
    "outputId": "35280101-4c0d-41d7-ad81-e5c18cf7cb50"
   },
   "outputs": [
    {
     "data": {
      "text/plain": [
       "tensor([[0.7975, 0.5907],\n",
       "        [0.7635, 0.3403]])"
      ]
     },
     "execution_count": 50,
     "metadata": {},
     "output_type": "execute_result"
    }
   ],
   "source": [
    "torch.matmul(torch.rand(2,3), torch.rand(3,2))"
   ]
  },
  {
   "cell_type": "code",
   "execution_count": 51,
   "metadata": {
    "colab": {
     "base_uri": "https://localhost:8080/"
    },
    "executionInfo": {
     "elapsed": 9,
     "status": "ok",
     "timestamp": 1750704691784,
     "user": {
      "displayName": "Maniraguha Nshuti David",
      "userId": "13190876237581765185"
     },
     "user_tz": -120
    },
    "id": "NRXF_CKO1Orx",
    "outputId": "3ae402b1-c639-4d5f-ee3a-942a5dedf8e4"
   },
   "outputs": [
    {
     "data": {
      "text/plain": [
       "tensor([[0.7226, 0.4791, 0.4137],\n",
       "        [0.4591, 0.2164, 0.2222],\n",
       "        [0.5836, 0.7994, 0.5247]])"
      ]
     },
     "execution_count": 51,
     "metadata": {},
     "output_type": "execute_result"
    }
   ],
   "source": [
    "torch.matmul(torch.rand(3,2), torch.rand(2,3))"
   ]
  },
  {
   "cell_type": "markdown",
   "metadata": {
    "id": "oju5AWS11bTG"
   },
   "source": [
    "#One of the most common errors in deep learning (shape errors)\n",
    "Because much of deep learning is multiplying and performing operations on matrices and matrices have a strict rule about what shapes and sizes can be combined, one of the most common errors you'll run into in deep learning is shape mismatches."
   ]
  },
  {
   "cell_type": "code",
   "execution_count": 53,
   "metadata": {
    "colab": {
     "base_uri": "https://localhost:8080/",
     "height": 176
    },
    "executionInfo": {
     "elapsed": 86,
     "status": "error",
     "timestamp": 1750704714498,
     "user": {
      "displayName": "Maniraguha Nshuti David",
      "userId": "13190876237581765185"
     },
     "user_tz": -120
    },
    "id": "Ugw1m7xk3brX",
    "outputId": "5fa157f3-c2c8-4f08-a52e-8773781a3750"
   },
   "outputs": [
    {
     "ename": "RuntimeError",
     "evalue": "mat1 and mat2 shapes cannot be multiplied (3x2 and 3x2)",
     "output_type": "error",
     "traceback": [
      "\u001b[0;31m---------------------------------------------------------------------------\u001b[0m",
      "\u001b[0;31mRuntimeError\u001b[0m                              Traceback (most recent call last)",
      "\u001b[0;32m/tmp/ipython-input-53-628968679.py\u001b[0m in \u001b[0;36m<cell line: 0>\u001b[0;34m()\u001b[0m\n\u001b[1;32m      7\u001b[0m                          [9, 12]])\n\u001b[1;32m      8\u001b[0m \u001b[0;31m#torch.mm(tensor_A,tensor_B) #torch.mm is the same as torch.matmul(it's an alias)\u001b[0m\u001b[0;34m\u001b[0m\u001b[0;34m\u001b[0m\u001b[0m\n\u001b[0;32m----> 9\u001b[0;31m \u001b[0mtorch\u001b[0m\u001b[0;34m.\u001b[0m\u001b[0mmatmul\u001b[0m\u001b[0;34m(\u001b[0m\u001b[0mtensor_A\u001b[0m\u001b[0;34m,\u001b[0m \u001b[0mtensor_B\u001b[0m\u001b[0;34m)\u001b[0m\u001b[0;34m\u001b[0m\u001b[0;34m\u001b[0m\u001b[0m\n\u001b[0m",
      "\u001b[0;31mRuntimeError\u001b[0m: mat1 and mat2 shapes cannot be multiplied (3x2 and 3x2)"
     ]
    }
   ],
   "source": [
    "tensor_A = torch.tensor([[1, 2],\n",
    "                         [3, 4],\n",
    "                         [5, 6]])\n",
    "\n",
    "tensor_B = torch.tensor([[7, 10],\n",
    "                         [8, 11],\n",
    "                         [9, 12]])\n",
    "#torch.mm(tensor_A,tensor_B) #torch.mm is the same as torch.matmul(it's an alias)\n",
    "torch.matmul(tensor_A, tensor_B)"
   ]
  },
  {
   "cell_type": "code",
   "execution_count": 54,
   "metadata": {
    "colab": {
     "base_uri": "https://localhost:8080/"
    },
    "executionInfo": {
     "elapsed": 26,
     "status": "ok",
     "timestamp": 1750704729730,
     "user": {
      "displayName": "Maniraguha Nshuti David",
      "userId": "13190876237581765185"
     },
     "user_tz": -120
    },
    "id": "CZ8tvE6b4b9Y",
    "outputId": "5ee65e02-80f5-4797-98cf-125dc44f14eb"
   },
   "outputs": [
    {
     "data": {
      "text/plain": [
       "(torch.Size([3, 2]), torch.Size([3, 2]))"
      ]
     },
     "execution_count": 54,
     "metadata": {},
     "output_type": "execute_result"
    }
   ],
   "source": [
    "tensor_A.shape, tensor_B.shape"
   ]
  },
  {
   "cell_type": "markdown",
   "metadata": {
    "id": "7jpBtQjF4vYV"
   },
   "source": [
    "We can make matrix multiplication work between tensor_A and tensor_B by making their inner dimensions match. we can manipulate the shape of one tensor using Transpose.\n",
    "\n",
    "A **Transpose** switches the axes or dimensions of a given tensor.\n",
    "\n",
    "\n",
    "One of the ways to do this is with a transpose (switch the dimensions of a given tensor).\n",
    "\n",
    "You can perform transposes in PyTorch using either:\n",
    "\n",
    "torch.transpose(input, dim0, dim1) - where input is the desired tensor to transpose and dim0 and dim1 are the dimensions to be swapped.\n",
    "tensor.T - where tensor is the desired tensor to transpose.\n",
    "Let's try the latter."
   ]
  },
  {
   "cell_type": "code",
   "execution_count": 55,
   "metadata": {
    "colab": {
     "base_uri": "https://localhost:8080/"
    },
    "executionInfo": {
     "elapsed": 55,
     "status": "ok",
     "timestamp": 1750704750166,
     "user": {
      "displayName": "Maniraguha Nshuti David",
      "userId": "13190876237581765185"
     },
     "user_tz": -120
    },
    "id": "m0Yp4HyG5dpp",
    "outputId": "3653cb07-08e8-481e-8e3e-f344d65def6e"
   },
   "outputs": [
    {
     "data": {
      "text/plain": [
       "(tensor([[ 7, 10],\n",
       "         [ 8, 11],\n",
       "         [ 9, 12]]),\n",
       " torch.Size([3, 2]))"
      ]
     },
     "execution_count": 55,
     "metadata": {},
     "output_type": "execute_result"
    }
   ],
   "source": [
    "tensor_B, tensor_B.shape"
   ]
  },
  {
   "cell_type": "code",
   "execution_count": 56,
   "metadata": {
    "colab": {
     "base_uri": "https://localhost:8080/"
    },
    "executionInfo": {
     "elapsed": 90,
     "status": "ok",
     "timestamp": 1750704758002,
     "user": {
      "displayName": "Maniraguha Nshuti David",
      "userId": "13190876237581765185"
     },
     "user_tz": -120
    },
    "id": "2VLnnYYa5q-o",
    "outputId": "5a507f72-e0c9-4d78-9a72-d9de694c89c1"
   },
   "outputs": [
    {
     "data": {
      "text/plain": [
       "(tensor([[ 7,  8,  9],\n",
       "         [10, 11, 12]]),\n",
       " torch.Size([2, 3]))"
      ]
     },
     "execution_count": 56,
     "metadata": {},
     "output_type": "execute_result"
    }
   ],
   "source": [
    "tensor_B.T, tensor_B.T.shape"
   ]
  },
  {
   "cell_type": "code",
   "execution_count": 57,
   "metadata": {
    "colab": {
     "base_uri": "https://localhost:8080/"
    },
    "executionInfo": {
     "elapsed": 31,
     "status": "ok",
     "timestamp": 1750704760922,
     "user": {
      "displayName": "Maniraguha Nshuti David",
      "userId": "13190876237581765185"
     },
     "user_tz": -120
    },
    "id": "jNSiCjYP50mJ",
    "outputId": "4027dca3-5ceb-430a-99d1-ddf93ebbdde7"
   },
   "outputs": [
    {
     "data": {
      "text/plain": [
       "tensor([[ 27,  30,  33],\n",
       "        [ 61,  68,  75],\n",
       "        [ 95, 106, 117]])"
      ]
     },
     "execution_count": 57,
     "metadata": {},
     "output_type": "execute_result"
    }
   ],
   "source": [
    "torch.matmul(tensor_A, tensor_B.T)"
   ]
  },
  {
   "cell_type": "code",
   "execution_count": 58,
   "metadata": {
    "colab": {
     "base_uri": "https://localhost:8080/"
    },
    "executionInfo": {
     "elapsed": 53,
     "status": "ok",
     "timestamp": 1750704765258,
     "user": {
      "displayName": "Maniraguha Nshuti David",
      "userId": "13190876237581765185"
     },
     "user_tz": -120
    },
    "id": "QzBsnlVl6dgZ",
    "outputId": "f99fae1d-3ae0-4006-ab7e-de8b76953213"
   },
   "outputs": [
    {
     "name": "stdout",
     "output_type": "stream",
     "text": [
      "Original shapes: tensor_A = torch.Size([3, 2]), tensor_B = torch.Size([3, 2])\n",
      "\n",
      "New shapes: tensor_A = torch.Size([3, 2]) (same as above), tensor_B.T = torch.Size([2, 3])\n",
      "\n",
      "Multiplying: torch.Size([3, 2]) * torch.Size([2, 3]) <- inner dimensions match\n",
      "\n",
      "Output:\n",
      "\n",
      "tensor([[ 27,  30,  33],\n",
      "        [ 61,  68,  75],\n",
      "        [ 95, 106, 117]])\n",
      "\n",
      "Output shape: torch.Size([3, 3])\n"
     ]
    }
   ],
   "source": [
    "# The operation works when tensor_B is transposed\n",
    "print(f\"Original shapes: tensor_A = {tensor_A.shape}, tensor_B = {tensor_B.shape}\\n\")\n",
    "print(f\"New shapes: tensor_A = {tensor_A.shape} (same as above), tensor_B.T = {tensor_B.T.shape}\\n\")\n",
    "print(f\"Multiplying: {tensor_A.shape} * {tensor_B.T.shape} <- inner dimensions match\\n\")\n",
    "print(\"Output:\\n\")\n",
    "output = torch.matmul(tensor_A, tensor_B.T)\n",
    "print(output)\n",
    "print(f\"\\nOutput shape: {output.shape}\")"
   ]
  },
  {
   "cell_type": "markdown",
   "metadata": {
    "id": "ekz8U8ts7Ktj"
   },
   "source": [
    "### Finding min, max, sum, etc (tensor aggregation)"
   ]
  },
  {
   "cell_type": "code",
   "execution_count": 59,
   "metadata": {
    "colab": {
     "base_uri": "https://localhost:8080/"
    },
    "executionInfo": {
     "elapsed": 18,
     "status": "ok",
     "timestamp": 1750704772388,
     "user": {
      "displayName": "Maniraguha Nshuti David",
      "userId": "13190876237581765185"
     },
     "user_tz": -120
    },
    "id": "zPtUiTVD9BTh",
    "outputId": "7b18c89d-55ad-43fd-c9b8-c3e5f8e4e369"
   },
   "outputs": [
    {
     "data": {
      "text/plain": [
       "(tensor([ 0, 10, 20, 30, 40, 50, 60, 70, 80, 90]), torch.int64)"
      ]
     },
     "execution_count": 59,
     "metadata": {},
     "output_type": "execute_result"
    }
   ],
   "source": [
    "#create A tensor\n",
    "x =torch .arange(0,100,10)\n",
    "x,x.dtype"
   ]
  },
  {
   "cell_type": "code",
   "execution_count": 60,
   "metadata": {
    "colab": {
     "base_uri": "https://localhost:8080/"
    },
    "executionInfo": {
     "elapsed": 33,
     "status": "ok",
     "timestamp": 1750704778251,
     "user": {
      "displayName": "Maniraguha Nshuti David",
      "userId": "13190876237581765185"
     },
     "user_tz": -120
    },
    "id": "IzrmuO7B9aAL",
    "outputId": "3c974e8f-7179-41d1-e1c2-a0d662cfc408"
   },
   "outputs": [
    {
     "data": {
      "text/plain": [
       "(tensor(0), tensor(0))"
      ]
     },
     "execution_count": 60,
     "metadata": {},
     "output_type": "execute_result"
    }
   ],
   "source": [
    "# Find the min\n",
    "torch.min(x), x.min()"
   ]
  },
  {
   "cell_type": "code",
   "execution_count": 61,
   "metadata": {
    "colab": {
     "base_uri": "https://localhost:8080/"
    },
    "executionInfo": {
     "elapsed": 43,
     "status": "ok",
     "timestamp": 1750704781138,
     "user": {
      "displayName": "Maniraguha Nshuti David",
      "userId": "13190876237581765185"
     },
     "user_tz": -120
    },
    "id": "1TvpsbQZ9i3L",
    "outputId": "c2f7790f-7222-439f-adb9-dff159638a57"
   },
   "outputs": [
    {
     "data": {
      "text/plain": [
       "(tensor(90), tensor(90))"
      ]
     },
     "execution_count": 61,
     "metadata": {},
     "output_type": "execute_result"
    }
   ],
   "source": [
    "# Find the max\n",
    "torch.max(x), x.max()"
   ]
  },
  {
   "cell_type": "code",
   "execution_count": 62,
   "metadata": {
    "colab": {
     "base_uri": "https://localhost:8080/",
     "height": 141
    },
    "executionInfo": {
     "elapsed": 38,
     "status": "error",
     "timestamp": 1750704788713,
     "user": {
      "displayName": "Maniraguha Nshuti David",
      "userId": "13190876237581765185"
     },
     "user_tz": -120
    },
    "id": "qgeR9Nd_98ev",
    "outputId": "f5416687-4331-4922-9e12-0423b4d60c35"
   },
   "outputs": [
    {
     "ename": "RuntimeError",
     "evalue": "mean(): could not infer output dtype. Input dtype must be either a floating point or complex dtype. Got: Long",
     "output_type": "error",
     "traceback": [
      "\u001b[0;31m---------------------------------------------------------------------------\u001b[0m",
      "\u001b[0;31mRuntimeError\u001b[0m                              Traceback (most recent call last)",
      "\u001b[0;32m/tmp/ipython-input-62-387790371.py\u001b[0m in \u001b[0;36m<cell line: 0>\u001b[0;34m()\u001b[0m\n\u001b[0;32m----> 1\u001b[0;31m \u001b[0mtorch\u001b[0m\u001b[0;34m.\u001b[0m\u001b[0mmean\u001b[0m\u001b[0;34m(\u001b[0m\u001b[0mx\u001b[0m\u001b[0;34m)\u001b[0m\u001b[0;34m\u001b[0m\u001b[0;34m\u001b[0m\u001b[0m\n\u001b[0m",
      "\u001b[0;31mRuntimeError\u001b[0m: mean(): could not infer output dtype. Input dtype must be either a floating point or complex dtype. Got: Long"
     ]
    }
   ],
   "source": [
    "torch.mean(x)"
   ]
  },
  {
   "cell_type": "code",
   "execution_count": 63,
   "metadata": {
    "colab": {
     "base_uri": "https://localhost:8080/"
    },
    "executionInfo": {
     "elapsed": 18,
     "status": "ok",
     "timestamp": 1750704795055,
     "user": {
      "displayName": "Maniraguha Nshuti David",
      "userId": "13190876237581765185"
     },
     "user_tz": -120
    },
    "id": "c3NI1VRM928V",
    "outputId": "f15e6c11-8ac3-4487-8078-922f66396ff7"
   },
   "outputs": [
    {
     "data": {
      "text/plain": [
       "(tensor(45.), tensor(45.))"
      ]
     },
     "execution_count": 63,
     "metadata": {},
     "output_type": "execute_result"
    }
   ],
   "source": [
    "# Find the average/mean - note: the torch.mean() function requires a tensor of float32 datatype to work\n",
    "torch.mean(x.type(torch.float32)), x.type(torch.float32).mean()"
   ]
  },
  {
   "cell_type": "code",
   "execution_count": 64,
   "metadata": {
    "colab": {
     "base_uri": "https://localhost:8080/"
    },
    "executionInfo": {
     "elapsed": 19,
     "status": "ok",
     "timestamp": 1750704799317,
     "user": {
      "displayName": "Maniraguha Nshuti David",
      "userId": "13190876237581765185"
     },
     "user_tz": -120
    },
    "id": "3JpeBWer-Ulw",
    "outputId": "ae52b129-5cdc-4c39-bd3b-b4e4ba441553"
   },
   "outputs": [
    {
     "data": {
      "text/plain": [
       "(tensor(450), tensor(450))"
      ]
     },
     "execution_count": 64,
     "metadata": {},
     "output_type": "execute_result"
    }
   ],
   "source": [
    "# Find the sum\n",
    "torch.sum(x), x.sum()"
   ]
  },
  {
   "cell_type": "markdown",
   "metadata": {
    "id": "-BOuV_G7_HDv"
   },
   "source": [
    "### Finding the positional min and max"
   ]
  },
  {
   "cell_type": "code",
   "execution_count": 65,
   "metadata": {
    "colab": {
     "base_uri": "https://localhost:8080/"
    },
    "executionInfo": {
     "elapsed": 45,
     "status": "ok",
     "timestamp": 1750704804175,
     "user": {
      "displayName": "Maniraguha Nshuti David",
      "userId": "13190876237581765185"
     },
     "user_tz": -120
    },
    "id": "0GTsVk3E_5NX",
    "outputId": "5e328a93-2a56-4d66-975d-4f97d98ead50"
   },
   "outputs": [
    {
     "data": {
      "text/plain": [
       "tensor([ 0, 10, 20, 30, 40, 50, 60, 70, 80, 90])"
      ]
     },
     "execution_count": 65,
     "metadata": {},
     "output_type": "execute_result"
    }
   ],
   "source": [
    "x"
   ]
  },
  {
   "cell_type": "code",
   "execution_count": 66,
   "metadata": {
    "colab": {
     "base_uri": "https://localhost:8080/"
    },
    "executionInfo": {
     "elapsed": 75,
     "status": "ok",
     "timestamp": 1750704808179,
     "user": {
      "displayName": "Maniraguha Nshuti David",
      "userId": "13190876237581765185"
     },
     "user_tz": -120
    },
    "id": "kYnLYNjU_74F",
    "outputId": "c4f33d43-9625-4903-f302-ceb659a4544e"
   },
   "outputs": [
    {
     "data": {
      "text/plain": [
       "tensor(0)"
      ]
     },
     "execution_count": 66,
     "metadata": {},
     "output_type": "execute_result"
    }
   ],
   "source": [
    "# Find the position in tensor that has the minimum value with argmin() --> retourns index position of target tensor where the minimum value occure\n",
    "x.argmin()"
   ]
  },
  {
   "cell_type": "code",
   "execution_count": 67,
   "metadata": {
    "colab": {
     "base_uri": "https://localhost:8080/"
    },
    "executionInfo": {
     "elapsed": 154,
     "status": "ok",
     "timestamp": 1750704813169,
     "user": {
      "displayName": "Maniraguha Nshuti David",
      "userId": "13190876237581765185"
     },
     "user_tz": -120
    },
    "id": "ymj3jZYTAADs",
    "outputId": "c0a86303-d846-4e1b-a433-f17e60e75367"
   },
   "outputs": [
    {
     "data": {
      "text/plain": [
       "tensor(9)"
      ]
     },
     "execution_count": 67,
     "metadata": {},
     "output_type": "execute_result"
    }
   ],
   "source": [
    "# Find the position in tensor that has the maximum value with argmin() --> retourns index position of target tensor where the maximum value occure\n",
    "x.argmax()"
   ]
  },
  {
   "cell_type": "markdown",
   "metadata": {
    "id": "0ZDrR1cWADLN"
   },
   "source": [
    "## Reshaping, stacking, squeezing and unsqueezing tensors\n",
    "\n",
    "* Reshaping - reshapes an input tensor to a defined shape\n",
    "* View - Return a view of an input tensor of certain shape but keep the same memory as the original tensor\n",
    "* stacking - combine multiple tensors on top of each other (vstack =vertical stack) or side by side (hstack = horizontal stack)\n",
    "* squeeze - removes '1' dimensions from a tensor\n",
    "* unsqueeze - add a '1' dimension to a target tensor\n",
    "* permute - Return a view of the input with dimensions permuted (swapped) in a certain way"
   ]
  },
  {
   "cell_type": "code",
   "execution_count": 94,
   "metadata": {
    "colab": {
     "base_uri": "https://localhost:8080/"
    },
    "executionInfo": {
     "elapsed": 73,
     "status": "ok",
     "timestamp": 1750709384674,
     "user": {
      "displayName": "Maniraguha Nshuti David",
      "userId": "13190876237581765185"
     },
     "user_tz": -120
    },
    "id": "syCY12lgL1l7",
    "outputId": "d99efbc1-b3b7-4c5d-8884-af2722f08b45"
   },
   "outputs": [
    {
     "data": {
      "text/plain": [
       "(tensor([1., 2., 3., 4., 5., 6., 7., 8., 9.]), torch.Size([9]))"
      ]
     },
     "execution_count": 94,
     "metadata": {},
     "output_type": "execute_result"
    }
   ],
   "source": [
    "# Let's create a tensor\n",
    "import torch\n",
    "x = torch.arange(1., 10.)\n",
    "x, x.shape"
   ]
  },
  {
   "cell_type": "code",
   "execution_count": 95,
   "metadata": {
    "colab": {
     "base_uri": "https://localhost:8080/"
    },
    "executionInfo": {
     "elapsed": 42,
     "status": "ok",
     "timestamp": 1750709384710,
     "user": {
      "displayName": "Maniraguha Nshuti David",
      "userId": "13190876237581765185"
     },
     "user_tz": -120
    },
    "id": "Qpjsr8PfL99v",
    "outputId": "eea52209-641d-45a4-c648-b77ed97137c1"
   },
   "outputs": [
    {
     "data": {
      "text/plain": [
       "(tensor([[1., 2., 3., 4., 5., 6., 7., 8., 9.]]), torch.Size([1, 9]))"
      ]
     },
     "execution_count": 95,
     "metadata": {},
     "output_type": "execute_result"
    }
   ],
   "source": [
    "# Add an extra dimension\n",
    "x_reshaped = x.reshape(1, 9)\n",
    "x_reshaped, x_reshaped.shape"
   ]
  },
  {
   "cell_type": "code",
   "execution_count": 96,
   "metadata": {
    "colab": {
     "base_uri": "https://localhost:8080/"
    },
    "executionInfo": {
     "elapsed": 63,
     "status": "ok",
     "timestamp": 1750709384775,
     "user": {
      "displayName": "Maniraguha Nshuti David",
      "userId": "13190876237581765185"
     },
     "user_tz": -120
    },
    "id": "AebHT56UL-M7",
    "outputId": "76890286-345f-4462-a884-bd663274e7be"
   },
   "outputs": [
    {
     "data": {
      "text/plain": [
       "(tensor([[1.],\n",
       "         [2.],\n",
       "         [3.],\n",
       "         [4.],\n",
       "         [5.],\n",
       "         [6.],\n",
       "         [7.],\n",
       "         [8.],\n",
       "         [9.]]),\n",
       " torch.Size([9, 1]))"
      ]
     },
     "execution_count": 96,
     "metadata": {},
     "output_type": "execute_result"
    }
   ],
   "source": [
    "x_reshaped_1 = x.reshape(9, 1) # as long as (m,n) m * n is equal to the size or shape of the original tensor it will work otherwise it won't\n",
    "x_reshaped_1, x_reshaped_1.shape"
   ]
  },
  {
   "cell_type": "code",
   "execution_count": 97,
   "metadata": {
    "colab": {
     "base_uri": "https://localhost:8080/"
    },
    "executionInfo": {
     "elapsed": 58,
     "status": "ok",
     "timestamp": 1750709384785,
     "user": {
      "displayName": "Maniraguha Nshuti David",
      "userId": "13190876237581765185"
     },
     "user_tz": -120
    },
    "id": "g_R5PsXZNZdA",
    "outputId": "80fd53f3-0b54-48da-9a69-fa3c54af7a29"
   },
   "outputs": [
    {
     "data": {
      "text/plain": [
       "(tensor([[1., 2., 3.],\n",
       "         [4., 5., 6.],\n",
       "         [7., 8., 9.]]),\n",
       " torch.Size([3, 3]))"
      ]
     },
     "execution_count": 97,
     "metadata": {},
     "output_type": "execute_result"
    }
   ],
   "source": [
    "x_reshaped_2 = x.reshape(3,3)\n",
    "x_reshaped_2 , x_reshaped_2.shape"
   ]
  },
  {
   "cell_type": "code",
   "execution_count": 98,
   "metadata": {
    "colab": {
     "base_uri": "https://localhost:8080/"
    },
    "executionInfo": {
     "elapsed": 15,
     "status": "ok",
     "timestamp": 1750709384786,
     "user": {
      "displayName": "Maniraguha Nshuti David",
      "userId": "13190876237581765185"
     },
     "user_tz": -120
    },
    "id": "nZMAU00yOVk3",
    "outputId": "d22bfd2b-3852-4c7f-c0ac-9a636220c5bb"
   },
   "outputs": [
    {
     "data": {
      "text/plain": [
       "(tensor([[1., 2., 3., 4., 5., 6., 7., 8., 9.]]), torch.Size([1, 9]))"
      ]
     },
     "execution_count": 98,
     "metadata": {},
     "output_type": "execute_result"
    }
   ],
   "source": [
    "# Change view (keeps same data as original but changes view)\n",
    "z = x.view(1,9)\n",
    "z, z.shape"
   ]
  },
  {
   "cell_type": "markdown",
   "metadata": {
    "id": "AgC4trjLPPJM"
   },
   "source": [
    "Remember though, changing the view of a tensor with torch.view() really only creates a new view of the same tensor.\n",
    "\n",
    "So changing the view changes the original tensor too."
   ]
  },
  {
   "cell_type": "code",
   "execution_count": 99,
   "metadata": {
    "colab": {
     "base_uri": "https://localhost:8080/"
    },
    "executionInfo": {
     "elapsed": 337,
     "status": "ok",
     "timestamp": 1750709385124,
     "user": {
      "displayName": "Maniraguha Nshuti David",
      "userId": "13190876237581765185"
     },
     "user_tz": -120
    },
    "id": "l7Y7anEbPYWj",
    "outputId": "504e2e4b-55d3-4c60-afa6-8d893aa959a9"
   },
   "outputs": [
    {
     "data": {
      "text/plain": [
       "(tensor([[5., 2., 3., 4., 5., 6., 7., 8., 9.]]),\n",
       " tensor([5., 2., 3., 4., 5., 6., 7., 8., 9.]))"
      ]
     },
     "execution_count": 99,
     "metadata": {},
     "output_type": "execute_result"
    }
   ],
   "source": [
    "# changing z changes x (because a view of a tensor shares the memory as the original input)\n",
    "z[:, 0] = 5\n",
    "z, x"
   ]
  },
  {
   "cell_type": "code",
   "execution_count": 100,
   "metadata": {
    "colab": {
     "base_uri": "https://localhost:8080/"
    },
    "executionInfo": {
     "elapsed": 64,
     "status": "ok",
     "timestamp": 1750709385129,
     "user": {
      "displayName": "Maniraguha Nshuti David",
      "userId": "13190876237581765185"
     },
     "user_tz": -120
    },
    "id": "uvV8F38bPoO8",
    "outputId": "bd0112ec-f4dc-45ff-87e8-8e11a732050d"
   },
   "outputs": [
    {
     "data": {
      "text/plain": [
       "tensor([[5., 2., 3., 4., 5., 6., 7., 8., 9.],\n",
       "        [5., 2., 3., 4., 5., 6., 7., 8., 9.],\n",
       "        [5., 2., 3., 4., 5., 6., 7., 8., 9.],\n",
       "        [5., 2., 3., 4., 5., 6., 7., 8., 9.]])"
      ]
     },
     "execution_count": 100,
     "metadata": {},
     "output_type": "execute_result"
    }
   ],
   "source": [
    "# start tensors on top of each other\n",
    "x_stacked = torch.stack([x, x, x, x], dim=0)\n",
    "x_stacked"
   ]
  },
  {
   "cell_type": "code",
   "execution_count": 101,
   "metadata": {
    "colab": {
     "base_uri": "https://localhost:8080/"
    },
    "executionInfo": {
     "elapsed": 12,
     "status": "ok",
     "timestamp": 1750709385141,
     "user": {
      "displayName": "Maniraguha Nshuti David",
      "userId": "13190876237581765185"
     },
     "user_tz": -120
    },
    "id": "hVFhM9F-QMiN",
    "outputId": "cea4b3b7-8806-45d4-a5ef-d9a28cb91b7e"
   },
   "outputs": [
    {
     "data": {
      "text/plain": [
       "(tensor([[5., 2., 3., 4., 5., 6., 7., 8., 9.]]), torch.Size([1, 9]))"
      ]
     },
     "execution_count": 101,
     "metadata": {},
     "output_type": "execute_result"
    }
   ],
   "source": [
    "# torch.squeeze() - removes all single dimensions from a target tensor\n",
    "x_reshaped, x_reshaped.shape"
   ]
  },
  {
   "cell_type": "code",
   "execution_count": 102,
   "metadata": {
    "colab": {
     "base_uri": "https://localhost:8080/"
    },
    "executionInfo": {
     "elapsed": 7,
     "status": "ok",
     "timestamp": 1750709385150,
     "user": {
      "displayName": "Maniraguha Nshuti David",
      "userId": "13190876237581765185"
     },
     "user_tz": -120
    },
    "id": "Scmqhn4aRwyK",
    "outputId": "f2db5029-389a-44bb-9e44-4760e8e263f1"
   },
   "outputs": [
    {
     "data": {
      "text/plain": [
       "tensor([5., 2., 3., 4., 5., 6., 7., 8., 9.])"
      ]
     },
     "execution_count": 102,
     "metadata": {},
     "output_type": "execute_result"
    }
   ],
   "source": [
    "x_reshaped.squeeze()"
   ]
  },
  {
   "cell_type": "code",
   "execution_count": 103,
   "metadata": {
    "colab": {
     "base_uri": "https://localhost:8080/"
    },
    "executionInfo": {
     "elapsed": 11,
     "status": "ok",
     "timestamp": 1750709385163,
     "user": {
      "displayName": "Maniraguha Nshuti David",
      "userId": "13190876237581765185"
     },
     "user_tz": -120
    },
    "id": "pMAr2j_VR3St",
    "outputId": "9cfbb25d-022d-41b4-ea4f-f4d01598e11b"
   },
   "outputs": [
    {
     "data": {
      "text/plain": [
       "torch.Size([9])"
      ]
     },
     "execution_count": 103,
     "metadata": {},
     "output_type": "execute_result"
    }
   ],
   "source": [
    "x_reshaped.squeeze().shape"
   ]
  },
  {
   "cell_type": "code",
   "execution_count": 104,
   "metadata": {
    "colab": {
     "base_uri": "https://localhost:8080/"
    },
    "executionInfo": {
     "elapsed": 11,
     "status": "ok",
     "timestamp": 1750709385176,
     "user": {
      "displayName": "Maniraguha Nshuti David",
      "userId": "13190876237581765185"
     },
     "user_tz": -120
    },
    "id": "82CX2j1QR-2P",
    "outputId": "b997d571-7bea-4e47-8a95-3387edb03de1"
   },
   "outputs": [
    {
     "name": "stdout",
     "output_type": "stream",
     "text": [
      "Previous tensor: tensor([[5., 2., 3., 4., 5., 6., 7., 8., 9.]])\n",
      "Previous shape: torch.Size([1, 9])\n",
      "\n",
      "New tensor: tensor([5., 2., 3., 4., 5., 6., 7., 8., 9.])\n",
      "New shape: torch.Size([9])\n"
     ]
    }
   ],
   "source": [
    "print(f\"Previous tensor: {x_reshaped}\")\n",
    "print(f\"Previous shape: {x_reshaped.shape}\")\n",
    "\n",
    "# Remove extra dimension from x_reshaped\n",
    "x_squeezed = x_reshaped.squeeze()\n",
    "print(f\"\\nNew tensor: {x_squeezed}\")\n",
    "print(f\"New shape: {x_squeezed.shape}\")"
   ]
  },
  {
   "cell_type": "markdown",
   "metadata": {
    "id": "NIHc1aNfSQ2L"
   },
   "source": [
    "And to do the reverse of torch.squeeze() you can use torch.unsqueeze() to add a dim  (dimension) value of 1 at a specific index."
   ]
  },
  {
   "cell_type": "code",
   "execution_count": 105,
   "metadata": {
    "colab": {
     "base_uri": "https://localhost:8080/"
    },
    "executionInfo": {
     "elapsed": 49,
     "status": "ok",
     "timestamp": 1750709385222,
     "user": {
      "displayName": "Maniraguha Nshuti David",
      "userId": "13190876237581765185"
     },
     "user_tz": -120
    },
    "id": "ZGcGdNTRSgv_",
    "outputId": "d6232e20-09de-4ad6-d5f0-1882b177b748"
   },
   "outputs": [
    {
     "name": "stdout",
     "output_type": "stream",
     "text": [
      "Previous tensor: tensor([5., 2., 3., 4., 5., 6., 7., 8., 9.])\n",
      "Previous shape: torch.Size([9])\n",
      "\n",
      "New tensor: tensor([[5., 2., 3., 4., 5., 6., 7., 8., 9.]])\n",
      "New shape: torch.Size([1, 9])\n"
     ]
    }
   ],
   "source": [
    "print(f\"Previous tensor: {x_squeezed}\")\n",
    "print(f\"Previous shape: {x_squeezed.shape}\")\n",
    "\n",
    "## Add an extra dimension with unsqueeze\n",
    "x_unsqueezed = x_squeezed.unsqueeze(dim=0)\n",
    "print(f\"\\nNew tensor: {x_unsqueezed}\")\n",
    "print(f\"New shape: {x_unsqueezed.shape}\")"
   ]
  },
  {
   "cell_type": "code",
   "execution_count": 106,
   "metadata": {
    "colab": {
     "base_uri": "https://localhost:8080/"
    },
    "executionInfo": {
     "elapsed": 43,
     "status": "ok",
     "timestamp": 1750709385225,
     "user": {
      "displayName": "Maniraguha Nshuti David",
      "userId": "13190876237581765185"
     },
     "user_tz": -120
    },
    "id": "j54pNfxlSw6w",
    "outputId": "a7c42772-9a9b-4456-a9cf-af4288983213"
   },
   "outputs": [
    {
     "name": "stdout",
     "output_type": "stream",
     "text": [
      "Previous shape: torch.Size([224, 224, 3])\n",
      "New shape: torch.Size([3, 224, 224])\n"
     ]
    }
   ],
   "source": [
    "# torch.permute - rearranges the dimensions of a target tensor in a specified order\n",
    "x_original = torch.rand(size=(224, 224, 3)) # [height, weight, colour_channels]\n",
    "\n",
    "# Permute the original tensor to rearrange the axis order\n",
    "x_permuted = x_original.permute(2, 0, 1) # shifts axis 0->1, 1->2, 2->0\n",
    "\n",
    "print(f\"Previous shape: {x_original.shape}\")\n",
    "print(f\"New shape: {x_permuted.shape}\") # [colour_channels ,height ,weight]"
   ]
  },
  {
   "cell_type": "markdown",
   "metadata": {
    "id": "zoNhWSAoUTec"
   },
   "source": [
    "Note: Because permuting returns a view (shares the same data as the original), the values in the permuted tensor will be the same as the original tensor and if you change the values in the view, it will change the values of the origina"
   ]
  },
  {
   "cell_type": "markdown",
   "metadata": {
    "id": "FhWlHmT0Uh99"
   },
   "source": [
    "## Quick Summary (Cheat-Sheet)\n",
    "Operation\tWhat it does\tExample shape change\n",
    "\n",
    "reshape()\tReshape to new shape (same data)\t[6] → [2,3]\n",
    "\n",
    "view()\tSame as reshape but shares memory\t[6] → [2,3]\n",
    "\n",
    "stack()\tStack tensors along new axis\t[3], [3] → [2,3]\n",
    "\n",
    "squeeze()\tRemove 1-dimensions (1)\t[1,3,1] → [3]\n",
    "\n",
    "unsqueeze()\tAdd new axis of size 1\t[3] → [1,3]\n",
    "\n",
    "permute()\tReorder dimensions\t[2,3,4] → [3,4,2]"
   ]
  },
  {
   "cell_type": "markdown",
   "metadata": {
    "id": "F05q3fP9bVDw"
   },
   "source": [
    "## Indexing (selecting data from tensors)\n",
    "\n",
    "Indexing with pytorch is similar to indexing with Numpy"
   ]
  },
  {
   "cell_type": "code",
   "execution_count": 107,
   "metadata": {
    "colab": {
     "base_uri": "https://localhost:8080/"
    },
    "executionInfo": {
     "elapsed": 58,
     "status": "ok",
     "timestamp": 1750709907045,
     "user": {
      "displayName": "Maniraguha Nshuti David",
      "userId": "13190876237581765185"
     },
     "user_tz": -120
    },
    "id": "0QVcIo5IcGk1",
    "outputId": "9ae7a597-a1e5-499a-f191-ba01fe7fa8a2"
   },
   "outputs": [
    {
     "data": {
      "text/plain": [
       "(tensor([[[1, 2, 3],\n",
       "          [4, 5, 6],\n",
       "          [7, 8, 9]]]),\n",
       " torch.Size([1, 3, 3]))"
      ]
     },
     "execution_count": 107,
     "metadata": {},
     "output_type": "execute_result"
    }
   ],
   "source": [
    "# Create tensor\n",
    "import torch\n",
    "x = torch.arange(1,10).reshape(1,3,3)\n",
    "x, x.shape"
   ]
  },
  {
   "cell_type": "code",
   "execution_count": 108,
   "metadata": {
    "colab": {
     "base_uri": "https://localhost:8080/"
    },
    "executionInfo": {
     "elapsed": 53,
     "status": "ok",
     "timestamp": 1750710004320,
     "user": {
      "displayName": "Maniraguha Nshuti David",
      "userId": "13190876237581765185"
     },
     "user_tz": -120
    },
    "id": "atmlt8zqcLxi",
    "outputId": "e5603bc5-60fc-4879-f282-3dcb3c899beb"
   },
   "outputs": [
    {
     "data": {
      "text/plain": [
       "tensor([[1, 2, 3],\n",
       "        [4, 5, 6],\n",
       "        [7, 8, 9]])"
      ]
     },
     "execution_count": 108,
     "metadata": {},
     "output_type": "execute_result"
    }
   ],
   "source": [
    "# Let's index on our new tensor\n",
    "x[0]"
   ]
  },
  {
   "cell_type": "code",
   "execution_count": 112,
   "metadata": {
    "colab": {
     "base_uri": "https://localhost:8080/"
    },
    "executionInfo": {
     "elapsed": 51,
     "status": "ok",
     "timestamp": 1750710176422,
     "user": {
      "displayName": "Maniraguha Nshuti David",
      "userId": "13190876237581765185"
     },
     "user_tz": -120
    },
    "id": "E73RwarEcMDY",
    "outputId": "cc0ccfbf-ead4-4b9b-856f-ee4482bcde10"
   },
   "outputs": [
    {
     "data": {
      "text/plain": [
       "tensor([1, 2, 3])"
      ]
     },
     "execution_count": 112,
     "metadata": {},
     "output_type": "execute_result"
    }
   ],
   "source": [
    "# Let's index on the middle bracket dim=1\n",
    "# x[0][0], # or\n",
    "x[0,0]"
   ]
  },
  {
   "cell_type": "code",
   "execution_count": 115,
   "metadata": {
    "colab": {
     "base_uri": "https://localhost:8080/"
    },
    "executionInfo": {
     "elapsed": 20,
     "status": "ok",
     "timestamp": 1750710341333,
     "user": {
      "displayName": "Maniraguha Nshuti David",
      "userId": "13190876237581765185"
     },
     "user_tz": -120
    },
    "id": "zoUsqahncecX",
    "outputId": "2dcdb1a5-d66b-4922-bd52-b7b5b369d5e9"
   },
   "outputs": [
    {
     "data": {
      "text/plain": [
       "tensor(1)"
      ]
     },
     "execution_count": 115,
     "metadata": {},
     "output_type": "execute_result"
    }
   ],
   "source": [
    "# Let's index on the most inner bracket(last dimension)\n",
    "# x[0][0][0]\n",
    "x[0,0,0]"
   ]
  },
  {
   "cell_type": "code",
   "execution_count": 117,
   "metadata": {
    "colab": {
     "base_uri": "https://localhost:8080/"
    },
    "executionInfo": {
     "elapsed": 26,
     "status": "ok",
     "timestamp": 1750710448548,
     "user": {
      "displayName": "Maniraguha Nshuti David",
      "userId": "13190876237581765185"
     },
     "user_tz": -120
    },
    "id": "vPayCPUGcMSK",
    "outputId": "d1361209-67c2-4ed4-e833-1d13debd0cc6"
   },
   "outputs": [
    {
     "data": {
      "text/plain": [
       "tensor(9)"
      ]
     },
     "execution_count": 117,
     "metadata": {},
     "output_type": "execute_result"
    }
   ],
   "source": [
    "x[0,2,2]"
   ]
  },
  {
   "cell_type": "code",
   "execution_count": 118,
   "metadata": {
    "colab": {
     "base_uri": "https://localhost:8080/"
    },
    "executionInfo": {
     "elapsed": 62,
     "status": "ok",
     "timestamp": 1750710523051,
     "user": {
      "displayName": "Maniraguha Nshuti David",
      "userId": "13190876237581765185"
     },
     "user_tz": -120
    },
    "id": "cVnpU-uGcMhy",
    "outputId": "a9d4e6b9-bb30-49fe-a93d-5ebcb3372e6a"
   },
   "outputs": [
    {
     "data": {
      "text/plain": [
       "tensor([[1, 2, 3]])"
      ]
     },
     "execution_count": 118,
     "metadata": {},
     "output_type": "execute_result"
    }
   ],
   "source": [
    "# You can use \":\" to select all of a target dimension\n",
    "x[:,0]"
   ]
  },
  {
   "cell_type": "code",
   "execution_count": 119,
   "metadata": {
    "colab": {
     "base_uri": "https://localhost:8080/"
    },
    "executionInfo": {
     "elapsed": 63,
     "status": "ok",
     "timestamp": 1750710665487,
     "user": {
      "displayName": "Maniraguha Nshuti David",
      "userId": "13190876237581765185"
     },
     "user_tz": -120
    },
    "id": "9_4NuxUJcMzu",
    "outputId": "c8c3c29a-abc2-4e14-890c-50beed1e0feb"
   },
   "outputs": [
    {
     "data": {
      "text/plain": [
       "tensor([[2, 5, 8]])"
      ]
     },
     "execution_count": 119,
     "metadata": {},
     "output_type": "execute_result"
    }
   ],
   "source": [
    "# Get all values of 0th and 1st dimensions but only index 1 of 2nd dimension\n",
    "x[:,:,1]"
   ]
  },
  {
   "cell_type": "code",
   "execution_count": 120,
   "metadata": {
    "colab": {
     "base_uri": "https://localhost:8080/"
    },
    "executionInfo": {
     "elapsed": 45,
     "status": "ok",
     "timestamp": 1750710778694,
     "user": {
      "displayName": "Maniraguha Nshuti David",
      "userId": "13190876237581765185"
     },
     "user_tz": -120
    },
    "id": "TCNalskXfL8S",
    "outputId": "3ddbf756-5184-4ba4-f303-36229b7befca"
   },
   "outputs": [
    {
     "data": {
      "text/plain": [
       "tensor([5])"
      ]
     },
     "execution_count": 120,
     "metadata": {},
     "output_type": "execute_result"
    }
   ],
   "source": [
    "# Get all values of the 0 dimension but only the 1 index value of 1st and 2nd dimension\n",
    "x[:,1,1]"
   ]
  },
  {
   "cell_type": "code",
   "execution_count": 123,
   "metadata": {
    "colab": {
     "base_uri": "https://localhost:8080/"
    },
    "executionInfo": {
     "elapsed": 84,
     "status": "ok",
     "timestamp": 1750710950792,
     "user": {
      "displayName": "Maniraguha Nshuti David",
      "userId": "13190876237581765185"
     },
     "user_tz": -120
    },
    "id": "XewED_Nafnkh",
    "outputId": "edc86f80-d33a-4932-accf-acbb302d41a5"
   },
   "outputs": [
    {
     "data": {
      "text/plain": [
       "tensor([1, 2, 3])"
      ]
     },
     "execution_count": 123,
     "metadata": {},
     "output_type": "execute_result"
    }
   ],
   "source": [
    "# Get index 0 of 0th and 1st dimension and all values of 2nd dimension\n",
    "x[0,0,:]"
   ]
  },
  {
   "cell_type": "code",
   "execution_count": 124,
   "metadata": {
    "colab": {
     "base_uri": "https://localhost:8080/"
    },
    "executionInfo": {
     "elapsed": 45,
     "status": "ok",
     "timestamp": 1750711003622,
     "user": {
      "displayName": "Maniraguha Nshuti David",
      "userId": "13190876237581765185"
     },
     "user_tz": -120
    },
    "id": "qUjGLdeAgIuh",
    "outputId": "2270273b-cb1b-4bdf-fe49-8f0da3326a82"
   },
   "outputs": [
    {
     "data": {
      "text/plain": [
       "tensor([[[1, 2, 3],\n",
       "         [4, 5, 6],\n",
       "         [7, 8, 9]]])"
      ]
     },
     "execution_count": 124,
     "metadata": {},
     "output_type": "execute_result"
    }
   ],
   "source": [
    "x"
   ]
  },
  {
   "cell_type": "code",
   "execution_count": 130,
   "metadata": {
    "colab": {
     "base_uri": "https://localhost:8080/"
    },
    "executionInfo": {
     "elapsed": 27,
     "status": "ok",
     "timestamp": 1750711221175,
     "user": {
      "displayName": "Maniraguha Nshuti David",
      "userId": "13190876237581765185"
     },
     "user_tz": -120
    },
    "id": "C90M1QNWgecq",
    "outputId": "19e78168-6fa9-4967-ffd2-e916e0971536"
   },
   "outputs": [
    {
     "name": "stdout",
     "output_type": "stream",
     "text": [
      "tensor([9])\n"
     ]
    },
    {
     "data": {
      "text/plain": [
       "tensor([[3, 6, 9]])"
      ]
     },
     "execution_count": 130,
     "metadata": {},
     "output_type": "execute_result"
    }
   ],
   "source": [
    "# index to return 9\n",
    "print(x[:,2,2])\n",
    "\n",
    "# index to return 3,6,9\n",
    "x[:,:,2]"
   ]
  },
  {
   "cell_type": "code",
   "execution_count": 131,
   "metadata": {
    "colab": {
     "base_uri": "https://localhost:8080/"
    },
    "executionInfo": {
     "elapsed": 43,
     "status": "ok",
     "timestamp": 1750711766123,
     "user": {
      "displayName": "Maniraguha Nshuti David",
      "userId": "13190876237581765185"
     },
     "user_tz": -120
    },
    "id": "WyLzTUIwgmnu",
    "outputId": "7809672c-492f-421a-c18d-a2852cc5015e"
   },
   "outputs": [
    {
     "data": {
      "text/plain": [
       "tensor([[4, 5, 6]])"
      ]
     },
     "execution_count": 131,
     "metadata": {},
     "output_type": "execute_result"
    }
   ],
   "source": [
    "x[:,1]"
   ]
  },
  {
   "cell_type": "markdown",
   "metadata": {
    "id": "y1QWFgC9jYqU"
   },
   "source": [
    "## Pytorch & Numpy\n",
    "Since NumPy is a popular Python numerical computing library, PyTorch has functionality to interact with it nicely.\n",
    "\n",
    "The two main methods you'll want to use for NumPy to PyTorch (and back again) are:\n",
    "\n",
    "* torch.from_numpy(ndarray) - NumPy array -> PyTorch tensor.\n",
    "* torch.Tensor.numpy() - PyTorch tensor -> NumPy array."
   ]
  },
  {
   "cell_type": "code",
   "execution_count": 132,
   "metadata": {
    "colab": {
     "base_uri": "https://localhost:8080/"
    },
    "executionInfo": {
     "elapsed": 42,
     "status": "ok",
     "timestamp": 1750712180718,
     "user": {
      "displayName": "Maniraguha Nshuti David",
      "userId": "13190876237581765185"
     },
     "user_tz": -120
    },
    "id": "O4LbeA14kUIh",
    "outputId": "7f53197d-5a23-4c23-cfaf-c2c79702c759"
   },
   "outputs": [
    {
     "data": {
      "text/plain": [
       "(array([1., 2., 3., 4., 5., 6., 7.]),\n",
       " tensor([1., 2., 3., 4., 5., 6., 7.], dtype=torch.float64))"
      ]
     },
     "execution_count": 132,
     "metadata": {},
     "output_type": "execute_result"
    }
   ],
   "source": [
    "# NumPy array to tensor\n",
    "import torch\n",
    "import numpy as np\n",
    "array = np.arange(1.0, 8.0)\n",
    "tensor = torch.from_numpy(array)\n",
    "array, tensor"
   ]
  },
  {
   "cell_type": "markdown",
   "metadata": {
    "id": "8NbVS4xqk93Q"
   },
   "source": [
    "Note: By default, NumPy arrays are created with the datatype float64 and if you convert it to a PyTorch tensor, it'll keep the same datatype (as above).\n",
    "\n",
    "However, many PyTorch calculations default to using float32.\n",
    "\n",
    "So if you want to convert your NumPy array (float64) -> PyTorch tensor (float64) -> PyTorch tensor (float32), you can use tensor = torch.from_numpy(array).type(torch.float32)."
   ]
  },
  {
   "cell_type": "code",
   "execution_count": 134,
   "metadata": {
    "colab": {
     "base_uri": "https://localhost:8080/"
    },
    "executionInfo": {
     "elapsed": 24,
     "status": "ok",
     "timestamp": 1750712357280,
     "user": {
      "displayName": "Maniraguha Nshuti David",
      "userId": "13190876237581765185"
     },
     "user_tz": -120
    },
    "id": "vrvKnzZClUhv",
    "outputId": "31db51fd-f7a5-4435-d684-f96e40004a0f"
   },
   "outputs": [
    {
     "data": {
      "text/plain": [
       "(tensor([1., 2., 3., 4., 5., 6., 7.]), torch.float32)"
      ]
     },
     "execution_count": 134,
     "metadata": {},
     "output_type": "execute_result"
    }
   ],
   "source": [
    "tensor = torch.from_numpy(array).type(torch.float32)\n",
    "tensor, tensor.dtype\n"
   ]
  },
  {
   "cell_type": "code",
   "execution_count": 135,
   "metadata": {
    "colab": {
     "base_uri": "https://localhost:8080/"
    },
    "executionInfo": {
     "elapsed": 53,
     "status": "ok",
     "timestamp": 1750712443025,
     "user": {
      "displayName": "Maniraguha Nshuti David",
      "userId": "13190876237581765185"
     },
     "user_tz": -120
    },
    "id": "R-V36Zqpllm0",
    "outputId": "7430d235-e8a0-45d9-8d41-a9e49d276201"
   },
   "outputs": [
    {
     "data": {
      "text/plain": [
       "(array([2., 3., 4., 5., 6., 7., 8.]), tensor([1., 2., 3., 4., 5., 6., 7.]))"
      ]
     },
     "execution_count": 135,
     "metadata": {},
     "output_type": "execute_result"
    }
   ],
   "source": [
    "# Because we reassigned tensor above, if you change the tensor, the array stays the same.\n",
    "array = array + 1\n",
    "array, tensor"
   ]
  },
  {
   "cell_type": "code",
   "execution_count": 136,
   "metadata": {
    "colab": {
     "base_uri": "https://localhost:8080/"
    },
    "executionInfo": {
     "elapsed": 75,
     "status": "ok",
     "timestamp": 1750712506671,
     "user": {
      "displayName": "Maniraguha Nshuti David",
      "userId": "13190876237581765185"
     },
     "user_tz": -120
    },
    "id": "8Evph6OHl95Y",
    "outputId": "7c022424-e057-42fa-bb1c-033d1a8565d3"
   },
   "outputs": [
    {
     "data": {
      "text/plain": [
       "(tensor([1., 1., 1., 1., 1., 1., 1.]),\n",
       " array([1., 1., 1., 1., 1., 1., 1.], dtype=float32))"
      ]
     },
     "execution_count": 136,
     "metadata": {},
     "output_type": "execute_result"
    }
   ],
   "source": [
    "# Tensor to NumPy array\n",
    "tensor = torch.ones(7) # create a tensor of ones with dtype=float32\n",
    "numpy_tensor = tensor.numpy() # will be dtype=float32 unless changed\n",
    "tensor, numpy_tensor"
   ]
  },
  {
   "cell_type": "code",
   "execution_count": 137,
   "metadata": {
    "colab": {
     "base_uri": "https://localhost:8080/"
    },
    "executionInfo": {
     "elapsed": 18,
     "status": "ok",
     "timestamp": 1750712581724,
     "user": {
      "displayName": "Maniraguha Nshuti David",
      "userId": "13190876237581765185"
     },
     "user_tz": -120
    },
    "id": "Aby4QxQEmNUo",
    "outputId": "2791c92f-c0dc-4b20-a666-25802a76ac2b"
   },
   "outputs": [
    {
     "data": {
      "text/plain": [
       "(tensor([2., 2., 2., 2., 2., 2., 2.]),\n",
       " array([1., 1., 1., 1., 1., 1., 1.], dtype=float32))"
      ]
     },
     "execution_count": 137,
     "metadata": {},
     "output_type": "execute_result"
    }
   ],
   "source": [
    "# Change the tensor, keep the array the same\n",
    "tensor = tensor + 1\n",
    "tensor, numpy_tensor"
   ]
  },
  {
   "cell_type": "markdown",
   "metadata": {
    "id": "fLMZ49ZemfvY"
   },
   "source": [
    "## Reproducibility (trying to take random out of random)\n",
    "\n",
    "As you learn more about neural networks and machine learning, you'll start to discover how much randomness plays a part.\n",
    "\n",
    "Well, pseudorandomness that is. Because after all, as they're designed, a computer is fundamentally deterministic (each step is predictable) so the randomness they create are simulated randomness\n",
    "\n",
    "How does this relate to neural networks and deep learning then?\n",
    "\n",
    "We've discussed neural networks start with random numbers to describe patterns in data (these numbers are poor descriptions) and try to improve those random numbers using tensor operations (and a few other things we haven't discussed yet) to better describe patterns in data.\n",
    "\n",
    "In short:\n",
    "\n",
    "start with random numbers -> tensor operations -> try to make better (again and again and again)"
   ]
  },
  {
   "cell_type": "code",
   "execution_count": 139,
   "metadata": {
    "colab": {
     "base_uri": "https://localhost:8080/"
    },
    "executionInfo": {
     "elapsed": 39,
     "status": "ok",
     "timestamp": 1750712993441,
     "user": {
      "displayName": "Maniraguha Nshuti David",
      "userId": "13190876237581765185"
     },
     "user_tz": -120
    },
    "id": "tRIftXC6nIyS",
    "outputId": "8b364de4-f118-4427-eac6-e67b439d47d1"
   },
   "outputs": [
    {
     "data": {
      "text/plain": [
       "tensor([[0.6918, 0.2447, 0.6616],\n",
       "        [0.4788, 0.0097, 0.7487],\n",
       "        [0.1130, 0.7048, 0.1546]])"
      ]
     },
     "execution_count": 139,
     "metadata": {},
     "output_type": "execute_result"
    }
   ],
   "source": [
    "torch.rand(3,3)"
   ]
  },
  {
   "cell_type": "code",
   "execution_count": 140,
   "metadata": {
    "colab": {
     "base_uri": "https://localhost:8080/"
    },
    "executionInfo": {
     "elapsed": 55,
     "status": "ok",
     "timestamp": 1750713256201,
     "user": {
      "displayName": "Maniraguha Nshuti David",
      "userId": "13190876237581765185"
     },
     "user_tz": -120
    },
    "id": "tOpV6X0fpDcM",
    "outputId": "d89c5964-f0ac-4fc3-962d-d373cabf4a40"
   },
   "outputs": [
    {
     "name": "stdout",
     "output_type": "stream",
     "text": [
      "Tensor A:\n",
      "tensor([[0.8003, 0.9500, 0.7479, 0.7179],\n",
      "        [0.2894, 0.4911, 0.2446, 0.0100],\n",
      "        [0.8168, 0.7579, 0.1616, 0.5161]])\n",
      "\n",
      "Tensor B:\n",
      "tensor([[0.2024, 0.7062, 0.4532, 0.6611],\n",
      "        [0.1064, 0.2094, 0.0762, 0.8961],\n",
      "        [0.1038, 0.3898, 0.1075, 0.8628]])\n",
      "\n",
      "Does Tensor A equal Tensor B? (anywhere)\n"
     ]
    },
    {
     "data": {
      "text/plain": [
       "tensor([[False, False, False, False],\n",
       "        [False, False, False, False],\n",
       "        [False, False, False, False]])"
      ]
     },
     "execution_count": 140,
     "metadata": {},
     "output_type": "execute_result"
    }
   ],
   "source": [
    "import torch\n",
    "\n",
    "# Create two random tensors\n",
    "random_tensor_A = torch.rand(3, 4)\n",
    "random_tensor_B = torch.rand(3, 4)\n",
    "\n",
    "print(f\"Tensor A:\\n{random_tensor_A}\\n\")\n",
    "print(f\"Tensor B:\\n{random_tensor_B}\\n\")\n",
    "print(f\"Does Tensor A equal Tensor B? (anywhere)\")\n",
    "random_tensor_A == random_tensor_B"
   ]
  },
  {
   "cell_type": "markdown",
   "metadata": {
    "id": "TbWIKsnxoDRx"
   },
   "source": [
    "To reduce the randomness in neural networks and pytorch comes the concept of a **random seed**\n",
    "Essentially what the random seed does is 'flavour' the randomness"
   ]
  },
  {
   "cell_type": "code",
   "execution_count": 141,
   "metadata": {
    "colab": {
     "base_uri": "https://localhost:8080/"
    },
    "executionInfo": {
     "elapsed": 68,
     "status": "ok",
     "timestamp": 1750713381101,
     "user": {
      "displayName": "Maniraguha Nshuti David",
      "userId": "13190876237581765185"
     },
     "user_tz": -120
    },
    "id": "4aKToYiZogbk",
    "outputId": "c61eb869-906b-4390-f85c-828fd7fd7666"
   },
   "outputs": [
    {
     "name": "stdout",
     "output_type": "stream",
     "text": [
      "Tensor C:\n",
      "tensor([[0.8823, 0.9150, 0.3829, 0.9593],\n",
      "        [0.3904, 0.6009, 0.2566, 0.7936],\n",
      "        [0.9408, 0.1332, 0.9346, 0.5936]])\n",
      "\n",
      "Tensor D:\n",
      "tensor([[0.8823, 0.9150, 0.3829, 0.9593],\n",
      "        [0.3904, 0.6009, 0.2566, 0.7936],\n",
      "        [0.9408, 0.1332, 0.9346, 0.5936]])\n",
      "\n",
      "Does Tensor C equal Tensor D? (anywhere)\n"
     ]
    },
    {
     "data": {
      "text/plain": [
       "tensor([[True, True, True, True],\n",
       "        [True, True, True, True],\n",
       "        [True, True, True, True]])"
      ]
     },
     "execution_count": 141,
     "metadata": {},
     "output_type": "execute_result"
    }
   ],
   "source": [
    "import torch\n",
    "import random\n",
    "\n",
    "# # Set the random seed\n",
    "RANDOM_SEED=42 # try changing this to different values and see what happens to the numbers below\n",
    "torch.manual_seed(seed=RANDOM_SEED)\n",
    "random_tensor_C = torch.rand(3, 4)\n",
    "\n",
    "# Have to reset the seed every time a new rand() is called\n",
    "# Without this, tensor_D would be different to tensor_C\n",
    "torch.random.manual_seed(seed=RANDOM_SEED) # try commenting this line out and seeing what happens\n",
    "random_tensor_D = torch.rand(3, 4)\n",
    "\n",
    "print(f\"Tensor C:\\n{random_tensor_C}\\n\")\n",
    "print(f\"Tensor D:\\n{random_tensor_D}\\n\")\n",
    "print(f\"Does Tensor C equal Tensor D? (anywhere)\")\n",
    "random_tensor_C == random_tensor_D"
   ]
  },
  {
   "cell_type": "markdown",
   "metadata": {
    "id": "spuR7J4dpi8S"
   },
   "source": [
    "Resource: What we've just covered only scratches the surface of reproducibility in PyTorch. For more, on reproducibility in general and random seeds, I'd checkout:\n",
    "\n",
    "\n",
    "* The PyTorch reproducibility documentation (a good exercise would be to read through this for 10-minutes and even if you don't understand it now, being aware of it is important).\n",
    "\n",
    "* The Wikipedia random seed page (this'll give a good overview of random seeds and pseudorandomness in general)."
   ]
  },
  {
   "cell_type": "markdown",
   "metadata": {
    "id": "l_t37KE1q4BI"
   },
   "source": [
    "## Running tensors on GPUs (and making faster computations)\n",
    "\n",
    "Deep learning algorithms require a lot of numerical operations.\n",
    "\n",
    "And by default these operations are often done on a CPU (computer processing unit).\n",
    "\n",
    "However, there's another common piece of hardware called a GPU (graphics processing unit), which is often much faster at performing the specific types of operations neural networks need (matrix multiplications) than CPUs."
   ]
  },
  {
   "cell_type": "markdown",
   "metadata": {
    "id": "O7aS_hL6rVW8"
   },
   "source": [
    "Note: When I reference \"GPU\" throughout this course, I'm referencing a Nvidia GPU with CUDA enabled (CUDA is a computing platform and API that helps allow GPUs be used for general purpose computing & not just graphics) unless otherwise specified."
   ]
  },
  {
   "cell_type": "markdown",
   "metadata": {
    "id": "JwBAsDXUrl1W"
   },
   "source": [
    "\n",
    "### 1. Getting a GPU\n",
    "\n",
    "You may already know what's going on when I say GPU. But if not, there are a few ways to get access to one.\n",
    "\n",
    "| **Method** | **Difficulty to setup** | **Pros** | **Cons** | **How to setup** |\n",
    "| ----- | ----- | ----- | ----- | ----- |\n",
    "| Google Colab | Easy | Free to use, almost zero setup required, can share work with others as easy as a link | Doesn't save your data outputs, limited compute, subject to timeouts | [Follow the Google Colab Guide](https://colab.research.google.com/notebooks/gpu.ipynb) |\n",
    "| Use your own | Medium | Run everything locally on your own machine | GPUs aren't free, require upfront cost | Follow the [PyTorch installation guidelines](https://pytorch.org/get-started/locally/) |\n",
    "| Cloud computing (AWS, GCP, Azure) | Medium-Hard | Small upfront cost, access to almost infinite compute | Can get expensive if running continually, takes some time to setup right | Follow the [PyTorch installation guidelines](https://pytorch.org/get-started/cloud-partners/) |\n",
    "\n",
    "There are more options for using GPUs but the above three will suffice for now.\n",
    "\n",
    "Personally, I use a combination of Google Colab and my own personal computer for small scale experiments (and creating this course) and go to cloud resources when I need more compute power.\n",
    "\n",
    "> **Resource:** If you're looking to purchase a GPU of your own but not sure what to get, [Tim Dettmers has an excellent guide](https://timdettmers.com/2020/09/07/which-gpu-for-deep-learning/).\n",
    "\n",
    "To check if you've got access to a Nvidia GPU, you can run `!nvidia-smi` where the `!` (also called bang) means \"run this on the command line\".\n",
    "\n"
   ]
  },
  {
   "cell_type": "code",
   "execution_count": 1,
   "metadata": {
    "colab": {
     "base_uri": "https://localhost:8080/"
    },
    "executionInfo": {
     "elapsed": 116,
     "status": "ok",
     "timestamp": 1750714441337,
     "user": {
      "displayName": "Maniraguha Nshuti David",
      "userId": "13190876237581765185"
     },
     "user_tz": -120
    },
    "id": "ZyQeOQWxry5p",
    "outputId": "7bdda49b-1082-47b0-df5e-3f4efbf99dd5"
   },
   "outputs": [
    {
     "name": "stdout",
     "output_type": "stream",
     "text": [
      "Mon Jun 23 21:34:02 2025       \n",
      "+-----------------------------------------------------------------------------------------+\n",
      "| NVIDIA-SMI 550.54.15              Driver Version: 550.54.15      CUDA Version: 12.4     |\n",
      "|-----------------------------------------+------------------------+----------------------+\n",
      "| GPU  Name                 Persistence-M | Bus-Id          Disp.A | Volatile Uncorr. ECC |\n",
      "| Fan  Temp   Perf          Pwr:Usage/Cap |           Memory-Usage | GPU-Util  Compute M. |\n",
      "|                                         |                        |               MIG M. |\n",
      "|=========================================+========================+======================|\n",
      "|   0  Tesla T4                       Off |   00000000:00:04.0 Off |                    0 |\n",
      "| N/A   51C    P8             10W /   70W |       0MiB /  15360MiB |      0%      Default |\n",
      "|                                         |                        |                  N/A |\n",
      "+-----------------------------------------+------------------------+----------------------+\n",
      "                                                                                         \n",
      "+-----------------------------------------------------------------------------------------+\n",
      "| Processes:                                                                              |\n",
      "|  GPU   GI   CI        PID   Type   Process name                              GPU Memory |\n",
      "|        ID   ID                                                               Usage      |\n",
      "|=========================================================================================|\n",
      "|  No running processes found                                                             |\n",
      "+-----------------------------------------------------------------------------------------+\n"
     ]
    }
   ],
   "source": [
    "!nvidia-smi"
   ]
  },
  {
   "cell_type": "markdown",
   "metadata": {
    "id": "XBIDBbUOrylv"
   },
   "source": [
    "\n",
    "\n",
    "### 2. Getting PyTorch to run on the GPU\n",
    "\n",
    "Once you've got a GPU ready to access, the next step is getting PyTorch to use for storing data (tensors) and computing on data (performing operations on tensors).\n",
    "\n",
    "To do so, you can use the [`torch.cuda`](https://pytorch.org/docs/stable/cuda.html) package.\n",
    "\n",
    "Rather than talk about it, let's try it out.\n",
    "\n",
    "You can test if PyTorch has access to a GPU using [`torch.cuda.is_available()`](https://pytorch.org/docs/stable/generated/torch.cuda.is_available.html#torch.cuda.is_available).\n"
   ]
  },
  {
   "cell_type": "code",
   "execution_count": 1,
   "metadata": {
    "colab": {
     "base_uri": "https://localhost:8080/"
    },
    "executionInfo": {
     "elapsed": 4980,
     "status": "ok",
     "timestamp": 1750716505545,
     "user": {
      "displayName": "Maniraguha Nshuti David",
      "userId": "13190876237581765185"
     },
     "user_tz": -120
    },
    "id": "XvRMRPH1t1jt",
    "outputId": "fe43436f-d7fa-40f8-b9d5-b22e7a5748c4"
   },
   "outputs": [
    {
     "data": {
      "text/plain": [
       "True"
      ]
     },
     "execution_count": 1,
     "metadata": {},
     "output_type": "execute_result"
    }
   ],
   "source": [
    "# Check for GPU access with Pytorch\n",
    "import torch\n",
    "torch.cuda.is_available()"
   ]
  },
  {
   "cell_type": "markdown",
   "metadata": {
    "id": "2A1lW1IivGKj"
   },
   "source": [
    "Note: In PyTorch, it's best practice to write device agnostic code. This means code that'll run on CPU (always available) or GPU (if available)."
   ]
  },
  {
   "cell_type": "code",
   "execution_count": 5,
   "metadata": {
    "colab": {
     "base_uri": "https://localhost:8080/",
     "height": 35
    },
    "executionInfo": {
     "elapsed": 16,
     "status": "ok",
     "timestamp": 1750716813786,
     "user": {
      "displayName": "Maniraguha Nshuti David",
      "userId": "13190876237581765185"
     },
     "user_tz": -120
    },
    "id": "Ocn4LNA6uLMW",
    "outputId": "f5ea6b40-b935-4dca-e990-f88a176c3fcb"
   },
   "outputs": [
    {
     "data": {
      "application/vnd.google.colaboratory.intrinsic+json": {
       "type": "string"
      },
      "text/plain": [
       "'cuda'"
      ]
     },
     "execution_count": 5,
     "metadata": {},
     "output_type": "execute_result"
    }
   ],
   "source": [
    "# Setup device agnostic code\n",
    "device = \"cuda\" if torch.cuda.is_available() else \"cpu\"\n",
    "device"
   ]
  },
  {
   "cell_type": "code",
   "execution_count": 4,
   "metadata": {
    "colab": {
     "base_uri": "https://localhost:8080/"
    },
    "executionInfo": {
     "elapsed": 50,
     "status": "ok",
     "timestamp": 1750714752120,
     "user": {
      "displayName": "Maniraguha Nshuti David",
      "userId": "13190876237581765185"
     },
     "user_tz": -120
    },
    "id": "O4e2cFR0uhzF",
    "outputId": "915d569d-a723-490c-f936-2d8362629a0e"
   },
   "outputs": [
    {
     "data": {
      "text/plain": [
       "1"
      ]
     },
     "execution_count": 4,
     "metadata": {},
     "output_type": "execute_result"
    }
   ],
   "source": [
    "# Count number of devices\n",
    "torch.cuda.device_count()"
   ]
  },
  {
   "cell_type": "markdown",
   "metadata": {
    "id": "M5SaOiecuxU-"
   },
   "source": [
    "## 3. Putting tensors and models on the CPU\n",
    "\n",
    "The reason we want our tensors/models on the GPU is because using a GPU results in faster computations."
   ]
  },
  {
   "cell_type": "code",
   "execution_count": 3,
   "metadata": {
    "colab": {
     "base_uri": "https://localhost:8080/"
    },
    "executionInfo": {
     "elapsed": 22,
     "status": "ok",
     "timestamp": 1750716769327,
     "user": {
      "displayName": "Maniraguha Nshuti David",
      "userId": "13190876237581765185"
     },
     "user_tz": -120
    },
    "id": "wafJ6QhC12Dw",
    "outputId": "a1ca0046-6916-43a5-c187-f94437349b0c"
   },
   "outputs": [
    {
     "name": "stdout",
     "output_type": "stream",
     "text": [
      "tensor([1, 2, 3]) cpu\n"
     ]
    }
   ],
   "source": [
    "# Create a tensor (default on the cpu)\n",
    "tensor = torch.tensor([1, 2, 3])\n",
    "\n",
    "# Tensor not on gpu\n",
    "print(tensor, tensor.device)\n",
    "\n"
   ]
  },
  {
   "cell_type": "code",
   "execution_count": 6,
   "metadata": {
    "colab": {
     "base_uri": "https://localhost:8080/"
    },
    "executionInfo": {
     "elapsed": 347,
     "status": "ok",
     "timestamp": 1750716823175,
     "user": {
      "displayName": "Maniraguha Nshuti David",
      "userId": "13190876237581765185"
     },
     "user_tz": -120
    },
    "id": "kDTkKf5T2Zux",
    "outputId": "4a915a6b-5d2c-4278-8f89-d66d4aaaee86"
   },
   "outputs": [
    {
     "data": {
      "text/plain": [
       "tensor([1, 2, 3], device='cuda:0')"
      ]
     },
     "execution_count": 6,
     "metadata": {},
     "output_type": "execute_result"
    }
   ],
   "source": [
    "# Move tensor to gpu (if available)\n",
    "tensor_on_gpu = tensor.to(device)\n",
    "tensor_on_gpu"
   ]
  },
  {
   "cell_type": "markdown",
   "metadata": {
    "id": "YE89Z7v52hxW"
   },
   "source": [
    "### 4. Moving Tensors back to the CPU"
   ]
  },
  {
   "cell_type": "code",
   "execution_count": 7,
   "metadata": {
    "colab": {
     "base_uri": "https://localhost:8080/",
     "height": 158
    },
    "executionInfo": {
     "elapsed": 85,
     "status": "error",
     "timestamp": 1750716997678,
     "user": {
      "displayName": "Maniraguha Nshuti David",
      "userId": "13190876237581765185"
     },
     "user_tz": -120
    },
    "id": "jCKtFWCz3Er8",
    "outputId": "85a5c110-83dd-4949-ce39-9fdf1ae0ac34"
   },
   "outputs": [
    {
     "ename": "TypeError",
     "evalue": "can't convert cuda:0 device type tensor to numpy. Use Tensor.cpu() to copy the tensor to host memory first.",
     "output_type": "error",
     "traceback": [
      "\u001b[0;31m---------------------------------------------------------------------------\u001b[0m",
      "\u001b[0;31mTypeError\u001b[0m                                 Traceback (most recent call last)",
      "\u001b[0;32m/tmp/ipython-input-7-4016867214.py\u001b[0m in \u001b[0;36m<cell line: 0>\u001b[0;34m()\u001b[0m\n\u001b[1;32m      1\u001b[0m \u001b[0;31m# If tensor is on GPU, can't transform it to Numpy\u001b[0m\u001b[0;34m\u001b[0m\u001b[0;34m\u001b[0m\u001b[0m\n\u001b[0;32m----> 2\u001b[0;31m \u001b[0mtensor_on_gpu\u001b[0m\u001b[0;34m.\u001b[0m\u001b[0mnumpy\u001b[0m\u001b[0;34m(\u001b[0m\u001b[0;34m)\u001b[0m\u001b[0;34m\u001b[0m\u001b[0;34m\u001b[0m\u001b[0m\n\u001b[0m",
      "\u001b[0;31mTypeError\u001b[0m: can't convert cuda:0 device type tensor to numpy. Use Tensor.cpu() to copy the tensor to host memory first."
     ]
    }
   ],
   "source": [
    "# If tensor is on GPU, can't transform it to Numpy\n",
    "tensor_on_gpu.numpy()"
   ]
  },
  {
   "cell_type": "code",
   "execution_count": 8,
   "metadata": {
    "colab": {
     "base_uri": "https://localhost:8080/"
    },
    "executionInfo": {
     "elapsed": 95,
     "status": "ok",
     "timestamp": 1750717092288,
     "user": {
      "displayName": "Maniraguha Nshuti David",
      "userId": "13190876237581765185"
     },
     "user_tz": -120
    },
    "id": "IqbibKl03V2H",
    "outputId": "ccca0aad-9cfa-4744-dfb4-377bfb9b800b"
   },
   "outputs": [
    {
     "data": {
      "text/plain": [
       "array([1, 2, 3])"
      ]
     },
     "execution_count": 8,
     "metadata": {},
     "output_type": "execute_result"
    }
   ],
   "source": [
    "# To fix the gpu tensor with NUmpy issue, we can first set it to the CPU\n",
    "tensor_back_on_cpu = tensor_on_gpu.cpu().numpy()\n",
    "tensor_back_on_cpu"
   ]
  },
  {
   "cell_type": "code",
   "execution_count": 9,
   "metadata": {
    "colab": {
     "base_uri": "https://localhost:8080/"
    },
    "executionInfo": {
     "elapsed": 26,
     "status": "ok",
     "timestamp": 1750717145555,
     "user": {
      "displayName": "Maniraguha Nshuti David",
      "userId": "13190876237581765185"
     },
     "user_tz": -120
    },
    "id": "MUxe6S1G3s3v",
    "outputId": "62651fcf-824e-4ac0-a587-90caadb44c3e"
   },
   "outputs": [
    {
     "data": {
      "text/plain": [
       "tensor([1, 2, 3], device='cuda:0')"
      ]
     },
     "execution_count": 9,
     "metadata": {},
     "output_type": "execute_result"
    }
   ],
   "source": [
    "tensor_on_gpu"
   ]
  },
  {
   "cell_type": "code",
   "execution_count": null,
   "metadata": {
    "id": "k7jW-Am1359b"
   },
   "outputs": [],
   "source": []
  }
 ],
 "metadata": {
  "accelerator": "GPU",
  "colab": {
   "authorship_tag": "ABX9TyOIiKUTtPOMgJ95CqHl9wPZ",
   "gpuType": "T4",
   "provenance": []
  },
  "kernelspec": {
   "display_name": "Python 3",
   "name": "python3"
  },
  "language_info": {
   "name": "python"
  }
 },
 "nbformat": 4,
 "nbformat_minor": 0
}
